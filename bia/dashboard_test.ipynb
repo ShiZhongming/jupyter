{
 "cells": [
  {
   "cell_type": "code",
   "execution_count": 1,
   "id": "c8c105d7",
   "metadata": {},
   "outputs": [
    {
     "name": "stdout",
     "output_type": "stream",
     "text": [
      "Requirement already satisfied: calplot in /opt/miniconda3/lib/python3.8/site-packages (0.1.7.4)\n",
      "Requirement already satisfied: matplotlib in /opt/miniconda3/lib/python3.8/site-packages (from calplot) (3.5.3)\n",
      "Requirement already satisfied: numpy in /opt/miniconda3/lib/python3.8/site-packages (from calplot) (1.23.2)\n",
      "Requirement already satisfied: pandas>=1 in /opt/miniconda3/lib/python3.8/site-packages (from calplot) (1.4.3)\n",
      "Requirement already satisfied: pytz>=2020.1 in /opt/miniconda3/lib/python3.8/site-packages (from pandas>=1->calplot) (2022.2.1)\n",
      "Requirement already satisfied: python-dateutil>=2.8.1 in /opt/miniconda3/lib/python3.8/site-packages (from pandas>=1->calplot) (2.8.2)\n",
      "Requirement already satisfied: six>=1.5 in /opt/miniconda3/lib/python3.8/site-packages (from python-dateutil>=2.8.1->pandas>=1->calplot) (1.16.0)\n",
      "Requirement already satisfied: pyparsing>=2.2.1 in /opt/miniconda3/lib/python3.8/site-packages (from matplotlib->calplot) (3.0.8)\n",
      "Requirement already satisfied: pillow>=6.2.0 in /opt/miniconda3/lib/python3.8/site-packages (from matplotlib->calplot) (9.2.0)\n",
      "Requirement already satisfied: kiwisolver>=1.0.1 in /opt/miniconda3/lib/python3.8/site-packages (from matplotlib->calplot) (1.4.4)\n",
      "Requirement already satisfied: packaging>=20.0 in /opt/miniconda3/lib/python3.8/site-packages (from matplotlib->calplot) (21.3)\n",
      "Requirement already satisfied: fonttools>=4.22.0 in /opt/miniconda3/lib/python3.8/site-packages (from matplotlib->calplot) (4.37.1)\n",
      "Requirement already satisfied: cycler>=0.10 in /opt/miniconda3/lib/python3.8/site-packages (from matplotlib->calplot) (0.11.0)\n",
      "Note: you may need to restart the kernel to use updated packages.\n"
     ]
    }
   ],
   "source": [
    "pip install calplot"
   ]
  },
  {
   "cell_type": "code",
   "execution_count": 2,
   "id": "9f7b7fd5",
   "metadata": {},
   "outputs": [
    {
     "name": "stdout",
     "output_type": "stream",
     "text": [
      "Requirement already satisfied: dash in /opt/miniconda3/lib/python3.8/site-packages (2.6.2)\n",
      "Requirement already satisfied: Flask>=1.0.4 in /opt/miniconda3/lib/python3.8/site-packages (from dash) (2.2.2)\n",
      "Requirement already satisfied: flask-compress in /opt/miniconda3/lib/python3.8/site-packages (from dash) (1.13)\n",
      "Requirement already satisfied: plotly>=5.0.0 in /opt/miniconda3/lib/python3.8/site-packages (from dash) (5.10.0)\n",
      "Requirement already satisfied: dash-core-components==2.0.0 in /opt/miniconda3/lib/python3.8/site-packages (from dash) (2.0.0)\n",
      "Requirement already satisfied: dash-table==5.0.0 in /opt/miniconda3/lib/python3.8/site-packages (from dash) (5.0.0)\n",
      "Requirement already satisfied: dash-html-components==2.0.0 in /opt/miniconda3/lib/python3.8/site-packages (from dash) (2.0.0)\n",
      "Requirement already satisfied: itsdangerous>=2.0 in /opt/miniconda3/lib/python3.8/site-packages (from Flask>=1.0.4->dash) (2.1.2)\n",
      "Requirement already satisfied: importlib-metadata>=3.6.0 in /opt/miniconda3/lib/python3.8/site-packages (from Flask>=1.0.4->dash) (4.12.0)\n",
      "Requirement already satisfied: Werkzeug>=2.2.2 in /opt/miniconda3/lib/python3.8/site-packages (from Flask>=1.0.4->dash) (2.2.2)\n",
      "Requirement already satisfied: Jinja2>=3.0 in /opt/miniconda3/lib/python3.8/site-packages (from Flask>=1.0.4->dash) (3.1.1)\n",
      "Requirement already satisfied: click>=8.0 in /opt/miniconda3/lib/python3.8/site-packages (from Flask>=1.0.4->dash) (8.1.3)\n",
      "Requirement already satisfied: zipp>=0.5 in /opt/miniconda3/lib/python3.8/site-packages (from importlib-metadata>=3.6.0->Flask>=1.0.4->dash) (3.8.0)\n",
      "Requirement already satisfied: MarkupSafe>=2.0 in /opt/miniconda3/lib/python3.8/site-packages (from Jinja2>=3.0->Flask>=1.0.4->dash) (2.1.1)\n",
      "Requirement already satisfied: tenacity>=6.2.0 in /opt/miniconda3/lib/python3.8/site-packages (from plotly>=5.0.0->dash) (8.1.0)\n",
      "Requirement already satisfied: brotli in /opt/miniconda3/lib/python3.8/site-packages (from flask-compress->dash) (1.0.9)\n",
      "Note: you may need to restart the kernel to use updated packages.\n"
     ]
    }
   ],
   "source": [
    "pip install dash"
   ]
  },
  {
   "cell_type": "code",
   "execution_count": 3,
   "id": "97af163a",
   "metadata": {},
   "outputs": [
    {
     "name": "stdout",
     "output_type": "stream",
     "text": [
      "Requirement already satisfied: jupyter-dash in /opt/miniconda3/lib/python3.8/site-packages (0.4.2)\n",
      "Requirement already satisfied: dash in /opt/miniconda3/lib/python3.8/site-packages (from jupyter-dash) (2.6.2)\n",
      "Requirement already satisfied: nest-asyncio in /opt/miniconda3/lib/python3.8/site-packages (from jupyter-dash) (1.5.5)\n",
      "Requirement already satisfied: ipython in /opt/miniconda3/lib/python3.8/site-packages (from jupyter-dash) (8.2.0)\n",
      "Requirement already satisfied: retrying in /opt/miniconda3/lib/python3.8/site-packages (from jupyter-dash) (1.3.3)\n",
      "Requirement already satisfied: ansi2html in /opt/miniconda3/lib/python3.8/site-packages (from jupyter-dash) (1.8.0)\n",
      "Requirement already satisfied: ipykernel in /opt/miniconda3/lib/python3.8/site-packages (from jupyter-dash) (6.13.0)\n",
      "Requirement already satisfied: requests in /opt/miniconda3/lib/python3.8/site-packages (from jupyter-dash) (2.25.1)\n",
      "Requirement already satisfied: flask in /opt/miniconda3/lib/python3.8/site-packages (from jupyter-dash) (2.2.2)\n",
      "Requirement already satisfied: flask-compress in /opt/miniconda3/lib/python3.8/site-packages (from dash->jupyter-dash) (1.13)\n",
      "Requirement already satisfied: dash-html-components==2.0.0 in /opt/miniconda3/lib/python3.8/site-packages (from dash->jupyter-dash) (2.0.0)\n",
      "Requirement already satisfied: dash-core-components==2.0.0 in /opt/miniconda3/lib/python3.8/site-packages (from dash->jupyter-dash) (2.0.0)\n",
      "Requirement already satisfied: dash-table==5.0.0 in /opt/miniconda3/lib/python3.8/site-packages (from dash->jupyter-dash) (5.0.0)\n",
      "Requirement already satisfied: plotly>=5.0.0 in /opt/miniconda3/lib/python3.8/site-packages (from dash->jupyter-dash) (5.10.0)\n",
      "Requirement already satisfied: itsdangerous>=2.0 in /opt/miniconda3/lib/python3.8/site-packages (from flask->jupyter-dash) (2.1.2)\n",
      "Requirement already satisfied: Werkzeug>=2.2.2 in /opt/miniconda3/lib/python3.8/site-packages (from flask->jupyter-dash) (2.2.2)\n",
      "Requirement already satisfied: Jinja2>=3.0 in /opt/miniconda3/lib/python3.8/site-packages (from flask->jupyter-dash) (3.1.1)\n",
      "Requirement already satisfied: click>=8.0 in /opt/miniconda3/lib/python3.8/site-packages (from flask->jupyter-dash) (8.1.3)\n",
      "Requirement already satisfied: importlib-metadata>=3.6.0 in /opt/miniconda3/lib/python3.8/site-packages (from flask->jupyter-dash) (4.12.0)\n",
      "Requirement already satisfied: zipp>=0.5 in /opt/miniconda3/lib/python3.8/site-packages (from importlib-metadata>=3.6.0->flask->jupyter-dash) (3.8.0)\n",
      "Requirement already satisfied: MarkupSafe>=2.0 in /opt/miniconda3/lib/python3.8/site-packages (from Jinja2>=3.0->flask->jupyter-dash) (2.1.1)\n",
      "Requirement already satisfied: tenacity>=6.2.0 in /opt/miniconda3/lib/python3.8/site-packages (from plotly>=5.0.0->dash->jupyter-dash) (8.1.0)\n",
      "Requirement already satisfied: brotli in /opt/miniconda3/lib/python3.8/site-packages (from flask-compress->dash->jupyter-dash) (1.0.9)\n",
      "Requirement already satisfied: psutil in /opt/miniconda3/lib/python3.8/site-packages (from ipykernel->jupyter-dash) (5.9.0)\n",
      "Requirement already satisfied: tornado>=6.1 in /opt/miniconda3/lib/python3.8/site-packages (from ipykernel->jupyter-dash) (6.1)\n",
      "Requirement already satisfied: debugpy>=1.0 in /opt/miniconda3/lib/python3.8/site-packages (from ipykernel->jupyter-dash) (1.6.0)\n",
      "Requirement already satisfied: jupyter-client>=6.1.12 in /opt/miniconda3/lib/python3.8/site-packages (from ipykernel->jupyter-dash) (7.2.2)\n",
      "Requirement already satisfied: matplotlib-inline>=0.1 in /opt/miniconda3/lib/python3.8/site-packages (from ipykernel->jupyter-dash) (0.1.3)\n",
      "Requirement already satisfied: appnope in /opt/miniconda3/lib/python3.8/site-packages (from ipykernel->jupyter-dash) (0.1.3)\n",
      "Requirement already satisfied: traitlets>=5.1.0 in /opt/miniconda3/lib/python3.8/site-packages (from ipykernel->jupyter-dash) (5.1.1)\n",
      "Requirement already satisfied: packaging in /opt/miniconda3/lib/python3.8/site-packages (from ipykernel->jupyter-dash) (21.3)\n",
      "Requirement already satisfied: backcall in /opt/miniconda3/lib/python3.8/site-packages (from ipython->jupyter-dash) (0.2.0)\n",
      "Requirement already satisfied: setuptools>=18.5 in /opt/miniconda3/lib/python3.8/site-packages (from ipython->jupyter-dash) (52.0.0.post20210125)\n",
      "Requirement already satisfied: jedi>=0.16 in /opt/miniconda3/lib/python3.8/site-packages (from ipython->jupyter-dash) (0.18.1)\n",
      "Requirement already satisfied: prompt-toolkit!=3.0.0,!=3.0.1,<3.1.0,>=2.0.0 in /opt/miniconda3/lib/python3.8/site-packages (from ipython->jupyter-dash) (3.0.29)\n",
      "Requirement already satisfied: stack-data in /opt/miniconda3/lib/python3.8/site-packages (from ipython->jupyter-dash) (0.2.0)\n",
      "Requirement already satisfied: decorator in /opt/miniconda3/lib/python3.8/site-packages (from ipython->jupyter-dash) (5.1.1)\n",
      "Requirement already satisfied: pickleshare in /opt/miniconda3/lib/python3.8/site-packages (from ipython->jupyter-dash) (0.7.5)\n",
      "Requirement already satisfied: pexpect>4.3 in /opt/miniconda3/lib/python3.8/site-packages (from ipython->jupyter-dash) (4.8.0)\n",
      "Requirement already satisfied: pygments>=2.4.0 in /opt/miniconda3/lib/python3.8/site-packages (from ipython->jupyter-dash) (2.11.2)\n",
      "Requirement already satisfied: parso<0.9.0,>=0.8.0 in /opt/miniconda3/lib/python3.8/site-packages (from jedi>=0.16->ipython->jupyter-dash) (0.8.3)\n",
      "Requirement already satisfied: jupyter-core>=4.9.2 in /opt/miniconda3/lib/python3.8/site-packages (from jupyter-client>=6.1.12->ipykernel->jupyter-dash) (4.9.2)\n",
      "Requirement already satisfied: entrypoints in /opt/miniconda3/lib/python3.8/site-packages (from jupyter-client>=6.1.12->ipykernel->jupyter-dash) (0.4)\n",
      "Requirement already satisfied: python-dateutil>=2.8.2 in /opt/miniconda3/lib/python3.8/site-packages (from jupyter-client>=6.1.12->ipykernel->jupyter-dash) (2.8.2)\n",
      "Requirement already satisfied: pyzmq>=22.3 in /opt/miniconda3/lib/python3.8/site-packages (from jupyter-client>=6.1.12->ipykernel->jupyter-dash) (22.3.0)\n",
      "Requirement already satisfied: ptyprocess>=0.5 in /opt/miniconda3/lib/python3.8/site-packages (from pexpect>4.3->ipython->jupyter-dash) (0.7.0)\n",
      "Requirement already satisfied: wcwidth in /opt/miniconda3/lib/python3.8/site-packages (from prompt-toolkit!=3.0.0,!=3.0.1,<3.1.0,>=2.0.0->ipython->jupyter-dash) (0.2.5)\n",
      "Requirement already satisfied: six>=1.5 in /opt/miniconda3/lib/python3.8/site-packages (from python-dateutil>=2.8.2->jupyter-client>=6.1.12->ipykernel->jupyter-dash) (1.16.0)\n",
      "Requirement already satisfied: pyparsing!=3.0.5,>=2.0.2 in /opt/miniconda3/lib/python3.8/site-packages (from packaging->ipykernel->jupyter-dash) (3.0.8)\n",
      "Requirement already satisfied: urllib3<1.27,>=1.21.1 in /opt/miniconda3/lib/python3.8/site-packages (from requests->jupyter-dash) (1.26.6)\n",
      "Requirement already satisfied: certifi>=2017.4.17 in /opt/miniconda3/lib/python3.8/site-packages (from requests->jupyter-dash) (2021.5.30)\n",
      "Requirement already satisfied: chardet<5,>=3.0.2 in /opt/miniconda3/lib/python3.8/site-packages (from requests->jupyter-dash) (4.0.0)\n",
      "Requirement already satisfied: idna<3,>=2.5 in /opt/miniconda3/lib/python3.8/site-packages (from requests->jupyter-dash) (2.10)\n",
      "Requirement already satisfied: asttokens in /opt/miniconda3/lib/python3.8/site-packages (from stack-data->ipython->jupyter-dash) (2.0.5)\n",
      "Requirement already satisfied: pure-eval in /opt/miniconda3/lib/python3.8/site-packages (from stack-data->ipython->jupyter-dash) (0.2.2)\n",
      "Requirement already satisfied: executing in /opt/miniconda3/lib/python3.8/site-packages (from stack-data->ipython->jupyter-dash) (0.8.3)\n",
      "Note: you may need to restart the kernel to use updated packages.\n"
     ]
    }
   ],
   "source": [
    "pip install jupyter-dash"
   ]
  },
  {
   "cell_type": "code",
   "execution_count": 4,
   "id": "72b54655",
   "metadata": {},
   "outputs": [
    {
     "name": "stdout",
     "output_type": "stream",
     "text": [
      "Dash is running on http://127.0.0.1:8050/\n",
      "\n",
      " * Serving Flask app '__main__'\n",
      " * Debug mode: on\n"
     ]
    },
    {
     "name": "stderr",
     "output_type": "stream",
     "text": [
      "Traceback (most recent call last):\n",
      "  File \"/opt/miniconda3/lib/python3.8/site-packages/ipykernel_launcher.py\", line 17, in <module>\n",
      "    app.launch_new_instance()\n",
      "  File \"/opt/miniconda3/lib/python3.8/site-packages/traitlets/config/application.py\", line 845, in launch_instance\n",
      "    app.initialize(argv)\n",
      "  File \"/opt/miniconda3/lib/python3.8/site-packages/traitlets/config/application.py\", line 88, in inner\n",
      "    return method(app, *args, **kwargs)\n",
      "  File \"/opt/miniconda3/lib/python3.8/site-packages/ipykernel/kernelapp.py\", line 666, in initialize\n",
      "    self.init_sockets()\n",
      "  File \"/opt/miniconda3/lib/python3.8/site-packages/ipykernel/kernelapp.py\", line 307, in init_sockets\n",
      "    self.shell_port = self._bind_socket(self.shell_socket, self.shell_port)\n",
      "  File \"/opt/miniconda3/lib/python3.8/site-packages/ipykernel/kernelapp.py\", line 244, in _bind_socket\n",
      "    return self._try_bind_socket(s, port)\n",
      "  File \"/opt/miniconda3/lib/python3.8/site-packages/ipykernel/kernelapp.py\", line 220, in _try_bind_socket\n",
      "    s.bind(\"tcp://%s:%i\" % (self.ip, port))\n",
      "  File \"/opt/miniconda3/lib/python3.8/site-packages/zmq/sugar/socket.py\", line 214, in bind\n",
      "    super().bind(addr)\n",
      "  File \"zmq/backend/cython/socket.pyx\", line 540, in zmq.backend.cython.socket.Socket.bind\n",
      "  File \"zmq/backend/cython/checkrc.pxd\", line 28, in zmq.backend.cython.checkrc._check_rc\n",
      "zmq.error.ZMQError: Address already in use\n"
     ]
    },
    {
     "ename": "SystemExit",
     "evalue": "1",
     "output_type": "error",
     "traceback": [
      "An exception has occurred, use %tb to see the full traceback.\n",
      "\u001b[0;31mSystemExit\u001b[0m\u001b[0;31m:\u001b[0m 1\n"
     ]
    },
    {
     "name": "stderr",
     "output_type": "stream",
     "text": [
      "/opt/miniconda3/lib/python3.8/site-packages/IPython/core/interactiveshell.py:3377: UserWarning:\n",
      "\n",
      "To exit: use 'exit', 'quit', or Ctrl-D.\n",
      "\n"
     ]
    }
   ],
   "source": [
    "# Run this app with `python app.py` and\n",
    "# visit http://127.0.0.1:8050/ in your web browser.\n",
    "\n",
    "from dash import Dash, dcc, html\n",
    "import plotly.express as px\n",
    "import pandas as pd\n",
    "\n",
    "app = Dash(__name__)\n",
    "\n",
    "colors = {\n",
    "    'background': '#111111',\n",
    "    'text': '#7FDBFF'\n",
    "}\n",
    "\n",
    "# assume you have a \"long-form\" data frame\n",
    "# see https://plotly.com/python/px-arguments/ for more options\n",
    "df = pd.DataFrame({\n",
    "    \"Fruit\": [\"Apples\", \"Oranges\", \"Bananas\", \"Apples\", \"Oranges\", \"Bananas\"],\n",
    "    \"Amount\": [4, 1, 2, 2, 4, 5],\n",
    "    \"City\": [\"SF\", \"SF\", \"SF\", \"Montreal\", \"Montreal\", \"Montreal\"]\n",
    "})\n",
    "\n",
    "fig = px.bar(df, x=\"Fruit\", y=\"Amount\", color=\"City\", barmode=\"group\")\n",
    "\n",
    "fig.update_layout(\n",
    "    plot_bgcolor=colors['background'],\n",
    "    paper_bgcolor=colors['background'],\n",
    "    font_color=colors['text']\n",
    ")\n",
    "\n",
    "app.layout = html.Div(style={'backgroundColor': colors['background']}, children=[\n",
    "    html.H1(\n",
    "        children='Hello Dash',\n",
    "        style={\n",
    "            'textAlign': 'center',\n",
    "            'color': colors['text']\n",
    "        }\n",
    "    ),\n",
    "\n",
    "    html.Div(children='Dash: A web application framework for your data.', style={\n",
    "        'textAlign': 'center',\n",
    "        'color': colors['text']\n",
    "    }),\n",
    "\n",
    "    dcc.Graph(\n",
    "        id='example-graph-2',\n",
    "        figure=fig\n",
    "    )\n",
    "])\n",
    "\n",
    "if __name__ == '__main__':\n",
    "    app.run_server(debug=True)\n"
   ]
  },
  {
   "cell_type": "code",
   "execution_count": null,
   "id": "c44e822a",
   "metadata": {},
   "outputs": [],
   "source": []
  }
 ],
 "metadata": {
  "kernelspec": {
   "display_name": "Python 3 (ipykernel)",
   "language": "python",
   "name": "python3"
  },
  "language_info": {
   "codemirror_mode": {
    "name": "ipython",
    "version": 3
   },
   "file_extension": ".py",
   "mimetype": "text/x-python",
   "name": "python",
   "nbconvert_exporter": "python",
   "pygments_lexer": "ipython3",
   "version": "3.8.10"
  }
 },
 "nbformat": 4,
 "nbformat_minor": 5
}
