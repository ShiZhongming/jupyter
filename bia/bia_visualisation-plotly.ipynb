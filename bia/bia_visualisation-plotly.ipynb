{
 "cells": [
  {
   "cell_type": "code",
   "execution_count": 2,
   "id": "a92317a6",
   "metadata": {},
   "outputs": [
    {
     "name": "stdout",
     "output_type": "stream",
     "text": [
      "Requirement already satisfied: numpy in /opt/miniconda3/lib/python3.8/site-packages (1.23.2)\n",
      "Note: you may need to restart the kernel to use updated packages.\n"
     ]
    }
   ],
   "source": [
    "pip install numpy"
   ]
  },
  {
   "cell_type": "code",
   "execution_count": 3,
   "id": "9614f025",
   "metadata": {},
   "outputs": [
    {
     "name": "stdout",
     "output_type": "stream",
     "text": [
      "Requirement already satisfied: pandas in /opt/miniconda3/lib/python3.8/site-packages (1.4.3)\n",
      "Requirement already satisfied: numpy>=1.18.5 in /opt/miniconda3/lib/python3.8/site-packages (from pandas) (1.23.2)\n",
      "Requirement already satisfied: python-dateutil>=2.8.1 in /opt/miniconda3/lib/python3.8/site-packages (from pandas) (2.8.2)\n",
      "Requirement already satisfied: pytz>=2020.1 in /opt/miniconda3/lib/python3.8/site-packages (from pandas) (2022.2.1)\n",
      "Requirement already satisfied: six>=1.5 in /opt/miniconda3/lib/python3.8/site-packages (from python-dateutil>=2.8.1->pandas) (1.16.0)\n",
      "Note: you may need to restart the kernel to use updated packages.\n"
     ]
    }
   ],
   "source": [
    "pip install pandas"
   ]
  },
  {
   "cell_type": "code",
   "execution_count": 6,
   "id": "f70b00ef",
   "metadata": {},
   "outputs": [
    {
     "name": "stdout",
     "output_type": "stream",
     "text": [
      "Requirement already satisfied: calmap in /opt/miniconda3/lib/python3.8/site-packages (0.0.9)\n",
      "Requirement already satisfied: matplotlib in /opt/miniconda3/lib/python3.8/site-packages (from calmap) (3.5.3)\n",
      "Requirement already satisfied: numpy in /opt/miniconda3/lib/python3.8/site-packages (from calmap) (1.23.2)\n",
      "Requirement already satisfied: pandas in /opt/miniconda3/lib/python3.8/site-packages (from calmap) (1.4.3)\n",
      "Requirement already satisfied: pillow>=6.2.0 in /opt/miniconda3/lib/python3.8/site-packages (from matplotlib->calmap) (9.2.0)\n",
      "Requirement already satisfied: fonttools>=4.22.0 in /opt/miniconda3/lib/python3.8/site-packages (from matplotlib->calmap) (4.37.1)\n",
      "Requirement already satisfied: packaging>=20.0 in /opt/miniconda3/lib/python3.8/site-packages (from matplotlib->calmap) (21.3)\n",
      "Requirement already satisfied: python-dateutil>=2.7 in /opt/miniconda3/lib/python3.8/site-packages (from matplotlib->calmap) (2.8.2)\n",
      "Requirement already satisfied: cycler>=0.10 in /opt/miniconda3/lib/python3.8/site-packages (from matplotlib->calmap) (0.11.0)\n",
      "Requirement already satisfied: kiwisolver>=1.0.1 in /opt/miniconda3/lib/python3.8/site-packages (from matplotlib->calmap) (1.4.4)\n",
      "Requirement already satisfied: pyparsing>=2.2.1 in /opt/miniconda3/lib/python3.8/site-packages (from matplotlib->calmap) (3.0.8)\n",
      "Requirement already satisfied: six>=1.5 in /opt/miniconda3/lib/python3.8/site-packages (from python-dateutil>=2.7->matplotlib->calmap) (1.16.0)\n",
      "Requirement already satisfied: pytz>=2020.1 in /opt/miniconda3/lib/python3.8/site-packages (from pandas->calmap) (2022.2.1)\n",
      "Note: you may need to restart the kernel to use updated packages.\n"
     ]
    }
   ],
   "source": [
    "pip install calmap"
   ]
  },
  {
   "cell_type": "code",
   "execution_count": 9,
   "id": "9bc3b8e6",
   "metadata": {},
   "outputs": [
    {
     "name": "stdout",
     "output_type": "stream",
     "text": [
      "Collecting chart_studio\n",
      "  Downloading chart_studio-1.1.0-py3-none-any.whl (64 kB)\n",
      "\u001b[K     |████████████████████████████████| 64 kB 2.0 MB/s eta 0:00:011\n",
      "\u001b[?25hRequirement already satisfied: six in /opt/miniconda3/lib/python3.8/site-packages (from chart_studio) (1.16.0)\n",
      "Requirement already satisfied: requests in /opt/miniconda3/lib/python3.8/site-packages (from chart_studio) (2.25.1)\n",
      "Requirement already satisfied: plotly in /opt/miniconda3/lib/python3.8/site-packages (from chart_studio) (5.10.0)\n",
      "Collecting retrying>=1.3.3\n",
      "  Downloading retrying-1.3.3.tar.gz (10 kB)\n",
      "Requirement already satisfied: tenacity>=6.2.0 in /opt/miniconda3/lib/python3.8/site-packages (from plotly->chart_studio) (8.1.0)\n",
      "Requirement already satisfied: certifi>=2017.4.17 in /opt/miniconda3/lib/python3.8/site-packages (from requests->chart_studio) (2021.5.30)\n",
      "Requirement already satisfied: idna<3,>=2.5 in /opt/miniconda3/lib/python3.8/site-packages (from requests->chart_studio) (2.10)\n",
      "Requirement already satisfied: urllib3<1.27,>=1.21.1 in /opt/miniconda3/lib/python3.8/site-packages (from requests->chart_studio) (1.26.6)\n",
      "Requirement already satisfied: chardet<5,>=3.0.2 in /opt/miniconda3/lib/python3.8/site-packages (from requests->chart_studio) (4.0.0)\n",
      "Building wheels for collected packages: retrying\n",
      "  Building wheel for retrying (setup.py) ... \u001b[?25ldone\n",
      "\u001b[?25h  Created wheel for retrying: filename=retrying-1.3.3-py3-none-any.whl size=11429 sha256=925d280614373af29a652bae115151e45cc63aa60914922c04eb8ec023a34c6c\n",
      "  Stored in directory: /Users/shi_zhongming/Library/Caches/pip/wheels/c4/a7/48/0a434133f6d56e878ca511c0e6c38326907c0792f67b476e56\n",
      "Successfully built retrying\n",
      "Installing collected packages: retrying, chart-studio\n",
      "Successfully installed chart-studio-1.1.0 retrying-1.3.3\n",
      "Note: you may need to restart the kernel to use updated packages.\n"
     ]
    }
   ],
   "source": [
    "pip install chart_studio"
   ]
  },
  {
   "cell_type": "code",
   "execution_count": 1,
   "id": "29a92622",
   "metadata": {},
   "outputs": [
    {
     "name": "stdout",
     "output_type": "stream",
     "text": [
      "Collecting plotly-calplot\n",
      "  Downloading plotly_calplot-0.1.13-py3-none-any.whl (8.2 kB)\n",
      "Requirement already satisfied: pandas<2.0.0,>=1.0.5 in /opt/miniconda3/lib/python3.8/site-packages (from plotly-calplot) (1.4.3)\n",
      "Collecting plotly<6.0.0,>=5.4.0\n",
      "  Downloading plotly-5.10.0-py2.py3-none-any.whl (15.2 MB)\n",
      "\u001b[K     |████████████████████████████████| 15.2 MB 2.6 MB/s eta 0:00:01\n",
      "\u001b[?25hRequirement already satisfied: numpy<2.0.0,>=1.22.3 in /opt/miniconda3/lib/python3.8/site-packages (from plotly-calplot) (1.23.2)\n",
      "Requirement already satisfied: pytz>=2020.1 in /opt/miniconda3/lib/python3.8/site-packages (from pandas<2.0.0,>=1.0.5->plotly-calplot) (2022.2.1)\n",
      "Requirement already satisfied: python-dateutil>=2.8.1 in /opt/miniconda3/lib/python3.8/site-packages (from pandas<2.0.0,>=1.0.5->plotly-calplot) (2.8.2)\n",
      "Collecting tenacity>=6.2.0\n",
      "  Downloading tenacity-8.1.0-py3-none-any.whl (23 kB)\n",
      "Requirement already satisfied: six>=1.5 in /opt/miniconda3/lib/python3.8/site-packages (from python-dateutil>=2.8.1->pandas<2.0.0,>=1.0.5->plotly-calplot) (1.16.0)\n",
      "Installing collected packages: tenacity, plotly, plotly-calplot\n",
      "Successfully installed plotly-5.10.0 plotly-calplot-0.1.13 tenacity-8.1.0\n",
      "Note: you may need to restart the kernel to use updated packages.\n"
     ]
    }
   ],
   "source": [
    "pip install plotly-calplot"
   ]
  },
  {
   "cell_type": "code",
   "execution_count": 10,
   "id": "2915c2cb",
   "metadata": {},
   "outputs": [],
   "source": [
    "import numpy as np\n",
    "import pandas as pd\n",
    "import chart_studio"
   ]
  },
  {
   "cell_type": "code",
   "execution_count": 11,
   "id": "40c08fc5",
   "metadata": {},
   "outputs": [],
   "source": [
    "# connect this notebook to plotly aacount\n",
    "\n",
    "username = 'dutszm' \n",
    "api_key = 'zF4aQoqx3to91xWjCU1u'\n",
    "\n",
    "chart_studio.tools.set_credentials_file(username=username, api_key=api_key)"
   ]
  },
  {
   "cell_type": "code",
   "execution_count": 45,
   "id": "280edfa6",
   "metadata": {},
   "outputs": [
    {
     "name": "stdout",
     "output_type": "stream",
     "text": [
      "            ds     value\n",
      "0   2022-01-01  0.380952\n",
      "1   2022-01-02  0.380952\n",
      "2   2022-01-03  0.380952\n",
      "3   2022-01-04  0.380952\n",
      "4   2022-01-05  0.380952\n",
      "..         ...       ...\n",
      "360 2022-12-27  0.325397\n",
      "361 2022-12-28  0.341270\n",
      "362 2022-12-29  0.341270\n",
      "363 2022-12-30  0.325397\n",
      "364 2022-12-31  0.357143\n",
      "\n",
      "[365 rows x 2 columns]\n"
     ]
    },
    {
     "data": {
      "application/vnd.plotly.v1+json": {
       "config": {
        "plotlyServerURL": "https://plotly.com"
       },
       "data": [
        {
         "colorscale": [
          [
           0,
           "rgb(255,245,240)"
          ],
          [
           0.125,
           "rgb(254,224,210)"
          ],
          [
           0.25,
           "rgb(252,187,161)"
          ],
          [
           0.375,
           "rgb(252,146,114)"
          ],
          [
           0.5,
           "rgb(251,106,74)"
          ],
          [
           0.625,
           "rgb(239,59,44)"
          ],
          [
           0.75,
           "rgb(203,24,29)"
          ],
          [
           0.875,
           "rgb(165,15,21)"
          ],
          [
           1,
           "rgb(103,0,13)"
          ]
         ],
         "customdata": [
          [
           "2022-01-01",
           "Data"
          ],
          [
           "2022-01-02",
           "Data"
          ],
          [
           "2022-01-03",
           "Data"
          ],
          [
           "2022-01-04",
           "Data"
          ],
          [
           "2022-01-05",
           "Data"
          ],
          [
           "2022-01-06",
           "Data"
          ],
          [
           "2022-01-07",
           "Data"
          ],
          [
           "2022-01-08",
           "Data"
          ],
          [
           "2022-01-09",
           "Data"
          ],
          [
           "2022-01-10",
           "Data"
          ],
          [
           "2022-01-11",
           "Data"
          ],
          [
           "2022-01-12",
           "Data"
          ],
          [
           "2022-01-13",
           "Data"
          ],
          [
           "2022-01-14",
           "Data"
          ],
          [
           "2022-01-15",
           "Data"
          ],
          [
           "2022-01-16",
           "Data"
          ],
          [
           "2022-01-17",
           "Data"
          ],
          [
           "2022-01-18",
           "Data"
          ],
          [
           "2022-01-19",
           "Data"
          ],
          [
           "2022-01-20",
           "Data"
          ],
          [
           "2022-01-21",
           "Data"
          ],
          [
           "2022-01-22",
           "Data"
          ],
          [
           "2022-01-23",
           "Data"
          ],
          [
           "2022-01-24",
           "Data"
          ],
          [
           "2022-01-25",
           "Data"
          ],
          [
           "2022-01-26",
           "Data"
          ],
          [
           "2022-01-27",
           "Data"
          ],
          [
           "2022-01-28",
           "Data"
          ],
          [
           "2022-01-29",
           "Data"
          ],
          [
           "2022-01-30",
           "Data"
          ],
          [
           "2022-01-31",
           "Data"
          ],
          [
           "2022-02-01",
           "Data"
          ],
          [
           "2022-02-02",
           "Data"
          ],
          [
           "2022-02-03",
           "Data"
          ],
          [
           "2022-02-04",
           "Data"
          ],
          [
           "2022-02-05",
           "Data"
          ],
          [
           "2022-02-06",
           "Data"
          ],
          [
           "2022-02-07",
           "Data"
          ],
          [
           "2022-02-08",
           "Data"
          ],
          [
           "2022-02-09",
           "Data"
          ],
          [
           "2022-02-10",
           "Data"
          ],
          [
           "2022-02-11",
           "Data"
          ],
          [
           "2022-02-12",
           "Data"
          ],
          [
           "2022-02-13",
           "Data"
          ],
          [
           "2022-02-14",
           "Data"
          ],
          [
           "2022-02-15",
           "Data"
          ],
          [
           "2022-02-16",
           "Data"
          ],
          [
           "2022-02-17",
           "Data"
          ],
          [
           "2022-02-18",
           "Data"
          ],
          [
           "2022-02-19",
           "Data"
          ],
          [
           "2022-02-20",
           "Data"
          ],
          [
           "2022-02-21",
           "Data"
          ],
          [
           "2022-02-22",
           "Data"
          ],
          [
           "2022-02-23",
           "Data"
          ],
          [
           "2022-02-24",
           "Data"
          ],
          [
           "2022-02-25",
           "Data"
          ],
          [
           "2022-02-26",
           "Data"
          ],
          [
           "2022-02-27",
           "Data"
          ],
          [
           "2022-02-28",
           "Data"
          ],
          [
           "2022-03-01",
           "Data"
          ],
          [
           "2022-03-02",
           "Data"
          ],
          [
           "2022-03-03",
           "Data"
          ],
          [
           "2022-03-04",
           "Data"
          ],
          [
           "2022-03-05",
           "Data"
          ],
          [
           "2022-03-06",
           "Data"
          ],
          [
           "2022-03-07",
           "Data"
          ],
          [
           "2022-03-08",
           "Data"
          ],
          [
           "2022-03-09",
           "Data"
          ],
          [
           "2022-03-10",
           "Data"
          ],
          [
           "2022-03-11",
           "Data"
          ],
          [
           "2022-03-12",
           "Data"
          ],
          [
           "2022-03-13",
           "Data"
          ],
          [
           "2022-03-14",
           "Data"
          ],
          [
           "2022-03-15",
           "Data"
          ],
          [
           "2022-03-16",
           "Data"
          ],
          [
           "2022-03-17",
           "Data"
          ],
          [
           "2022-03-18",
           "Data"
          ],
          [
           "2022-03-19",
           "Data"
          ],
          [
           "2022-03-20",
           "Data"
          ],
          [
           "2022-03-21",
           "Data"
          ],
          [
           "2022-03-22",
           "Data"
          ],
          [
           "2022-03-23",
           "Data"
          ],
          [
           "2022-03-24",
           "Data"
          ],
          [
           "2022-03-25",
           "Data"
          ],
          [
           "2022-03-26",
           "Data"
          ],
          [
           "2022-03-27",
           "Data"
          ],
          [
           "2022-03-28",
           "Data"
          ],
          [
           "2022-03-29",
           "Data"
          ],
          [
           "2022-03-30",
           "Data"
          ],
          [
           "2022-03-31",
           "Data"
          ],
          [
           "2022-04-01",
           "Data"
          ],
          [
           "2022-04-02",
           "Data"
          ],
          [
           "2022-04-03",
           "Data"
          ],
          [
           "2022-04-04",
           "Data"
          ],
          [
           "2022-04-05",
           "Data"
          ],
          [
           "2022-04-06",
           "Data"
          ],
          [
           "2022-04-07",
           "Data"
          ],
          [
           "2022-04-08",
           "Data"
          ],
          [
           "2022-04-09",
           "Data"
          ],
          [
           "2022-04-10",
           "Data"
          ],
          [
           "2022-04-11",
           "Data"
          ],
          [
           "2022-04-12",
           "Data"
          ],
          [
           "2022-04-13",
           "Data"
          ],
          [
           "2022-04-14",
           "Data"
          ],
          [
           "2022-04-15",
           "Data"
          ],
          [
           "2022-04-16",
           "Data"
          ],
          [
           "2022-04-17",
           "Data"
          ],
          [
           "2022-04-18",
           "Data"
          ],
          [
           "2022-04-19",
           "Data"
          ],
          [
           "2022-04-20",
           "Data"
          ],
          [
           "2022-04-21",
           "Data"
          ],
          [
           "2022-04-22",
           "Data"
          ],
          [
           "2022-04-23",
           "Data"
          ],
          [
           "2022-04-24",
           "Data"
          ],
          [
           "2022-04-25",
           "Data"
          ],
          [
           "2022-04-26",
           "Data"
          ],
          [
           "2022-04-27",
           "Data"
          ],
          [
           "2022-04-28",
           "Data"
          ],
          [
           "2022-04-29",
           "Data"
          ],
          [
           "2022-04-30",
           "Data"
          ],
          [
           "2022-05-01",
           "Data"
          ],
          [
           "2022-05-02",
           "Data"
          ],
          [
           "2022-05-03",
           "Data"
          ],
          [
           "2022-05-04",
           "Data"
          ],
          [
           "2022-05-05",
           "Data"
          ],
          [
           "2022-05-06",
           "Data"
          ],
          [
           "2022-05-07",
           "Data"
          ],
          [
           "2022-05-08",
           "Data"
          ],
          [
           "2022-05-09",
           "Data"
          ],
          [
           "2022-05-10",
           "Data"
          ],
          [
           "2022-05-11",
           "Data"
          ],
          [
           "2022-05-12",
           "Data"
          ],
          [
           "2022-05-13",
           "Data"
          ],
          [
           "2022-05-14",
           "Data"
          ],
          [
           "2022-05-15",
           "Data"
          ],
          [
           "2022-05-16",
           "Data"
          ],
          [
           "2022-05-17",
           "Data"
          ],
          [
           "2022-05-18",
           "Data"
          ],
          [
           "2022-05-19",
           "Data"
          ],
          [
           "2022-05-20",
           "Data"
          ],
          [
           "2022-05-21",
           "Data"
          ],
          [
           "2022-05-22",
           "Data"
          ],
          [
           "2022-05-23",
           "Data"
          ],
          [
           "2022-05-24",
           "Data"
          ],
          [
           "2022-05-25",
           "Data"
          ],
          [
           "2022-05-26",
           "Data"
          ],
          [
           "2022-05-27",
           "Data"
          ],
          [
           "2022-05-28",
           "Data"
          ],
          [
           "2022-05-29",
           "Data"
          ],
          [
           "2022-05-30",
           "Data"
          ],
          [
           "2022-05-31",
           "Data"
          ],
          [
           "2022-06-01",
           "Data"
          ],
          [
           "2022-06-02",
           "Data"
          ],
          [
           "2022-06-03",
           "Data"
          ],
          [
           "2022-06-04",
           "Data"
          ],
          [
           "2022-06-05",
           "Data"
          ],
          [
           "2022-06-06",
           "Data"
          ],
          [
           "2022-06-07",
           "Data"
          ],
          [
           "2022-06-08",
           "Data"
          ],
          [
           "2022-06-09",
           "Data"
          ],
          [
           "2022-06-10",
           "Data"
          ],
          [
           "2022-06-11",
           "Data"
          ],
          [
           "2022-06-12",
           "Data"
          ],
          [
           "2022-06-13",
           "Data"
          ],
          [
           "2022-06-14",
           "Data"
          ],
          [
           "2022-06-15",
           "Data"
          ],
          [
           "2022-06-16",
           "Data"
          ],
          [
           "2022-06-17",
           "Data"
          ],
          [
           "2022-06-18",
           "Data"
          ],
          [
           "2022-06-19",
           "Data"
          ],
          [
           "2022-06-20",
           "Data"
          ],
          [
           "2022-06-21",
           "Data"
          ],
          [
           "2022-06-22",
           "Data"
          ],
          [
           "2022-06-23",
           "Data"
          ],
          [
           "2022-06-24",
           "Data"
          ],
          [
           "2022-06-25",
           "Data"
          ],
          [
           "2022-06-26",
           "Data"
          ],
          [
           "2022-06-27",
           "Data"
          ],
          [
           "2022-06-28",
           "Data"
          ],
          [
           "2022-06-29",
           "Data"
          ],
          [
           "2022-06-30",
           "Data"
          ],
          [
           "2022-07-01",
           "Data"
          ],
          [
           "2022-07-02",
           "Data"
          ],
          [
           "2022-07-03",
           "Data"
          ],
          [
           "2022-07-04",
           "Data"
          ],
          [
           "2022-07-05",
           "Data"
          ],
          [
           "2022-07-06",
           "Data"
          ],
          [
           "2022-07-07",
           "Data"
          ],
          [
           "2022-07-08",
           "Data"
          ],
          [
           "2022-07-09",
           "Data"
          ],
          [
           "2022-07-10",
           "Data"
          ],
          [
           "2022-07-11",
           "Data"
          ],
          [
           "2022-07-12",
           "Data"
          ],
          [
           "2022-07-13",
           "Data"
          ],
          [
           "2022-07-14",
           "Data"
          ],
          [
           "2022-07-15",
           "Data"
          ],
          [
           "2022-07-16",
           "Data"
          ],
          [
           "2022-07-17",
           "Data"
          ],
          [
           "2022-07-18",
           "Data"
          ],
          [
           "2022-07-19",
           "Data"
          ],
          [
           "2022-07-20",
           "Data"
          ],
          [
           "2022-07-21",
           "Data"
          ],
          [
           "2022-07-22",
           "Data"
          ],
          [
           "2022-07-23",
           "Data"
          ],
          [
           "2022-07-24",
           "Data"
          ],
          [
           "2022-07-25",
           "Data"
          ],
          [
           "2022-07-26",
           "Data"
          ],
          [
           "2022-07-27",
           "Data"
          ],
          [
           "2022-07-28",
           "Data"
          ],
          [
           "2022-07-29",
           "Data"
          ],
          [
           "2022-07-30",
           "Data"
          ],
          [
           "2022-07-31",
           "Data"
          ],
          [
           "2022-08-01",
           "Data"
          ],
          [
           "2022-08-02",
           "Data"
          ],
          [
           "2022-08-03",
           "Data"
          ],
          [
           "2022-08-04",
           "Data"
          ],
          [
           "2022-08-05",
           "Data"
          ],
          [
           "2022-08-06",
           "Data"
          ],
          [
           "2022-08-07",
           "Data"
          ],
          [
           "2022-08-08",
           "Data"
          ],
          [
           "2022-08-09",
           "Data"
          ],
          [
           "2022-08-10",
           "Data"
          ],
          [
           "2022-08-11",
           "Data"
          ],
          [
           "2022-08-12",
           "Data"
          ],
          [
           "2022-08-13",
           "Data"
          ],
          [
           "2022-08-14",
           "Data"
          ],
          [
           "2022-08-15",
           "Data"
          ],
          [
           "2022-08-16",
           "Data"
          ],
          [
           "2022-08-17",
           "Data"
          ],
          [
           "2022-08-18",
           "Data"
          ],
          [
           "2022-08-19",
           "Data"
          ],
          [
           "2022-08-20",
           "Data"
          ],
          [
           "2022-08-21",
           "Data"
          ],
          [
           "2022-08-22",
           "Data"
          ],
          [
           "2022-08-23",
           "Data"
          ],
          [
           "2022-08-24",
           "Data"
          ],
          [
           "2022-08-25",
           "Data"
          ],
          [
           "2022-08-26",
           "Data"
          ],
          [
           "2022-08-27",
           "Data"
          ],
          [
           "2022-08-28",
           "Data"
          ],
          [
           "2022-08-29",
           "Data"
          ],
          [
           "2022-08-30",
           "Data"
          ],
          [
           "2022-08-31",
           "Data"
          ],
          [
           "2022-09-01",
           "Data"
          ],
          [
           "2022-09-02",
           "Data"
          ],
          [
           "2022-09-03",
           "Data"
          ],
          [
           "2022-09-04",
           "Data"
          ],
          [
           "2022-09-05",
           "Data"
          ],
          [
           "2022-09-06",
           "Data"
          ],
          [
           "2022-09-07",
           "Data"
          ],
          [
           "2022-09-08",
           "Data"
          ],
          [
           "2022-09-09",
           "Data"
          ],
          [
           "2022-09-10",
           "Data"
          ],
          [
           "2022-09-11",
           "Data"
          ],
          [
           "2022-09-12",
           "Data"
          ],
          [
           "2022-09-13",
           "Data"
          ],
          [
           "2022-09-14",
           "Data"
          ],
          [
           "2022-09-15",
           "Data"
          ],
          [
           "2022-09-16",
           "Data"
          ],
          [
           "2022-09-17",
           "Data"
          ],
          [
           "2022-09-18",
           "Data"
          ],
          [
           "2022-09-19",
           "Data"
          ],
          [
           "2022-09-20",
           "Data"
          ],
          [
           "2022-09-21",
           "Data"
          ],
          [
           "2022-09-22",
           "Data"
          ],
          [
           "2022-09-23",
           "Data"
          ],
          [
           "2022-09-24",
           "Data"
          ],
          [
           "2022-09-25",
           "Data"
          ],
          [
           "2022-09-26",
           "Data"
          ],
          [
           "2022-09-27",
           "Data"
          ],
          [
           "2022-09-28",
           "Data"
          ],
          [
           "2022-09-29",
           "Data"
          ],
          [
           "2022-09-30",
           "Data"
          ],
          [
           "2022-10-01",
           "Data"
          ],
          [
           "2022-10-02",
           "Data"
          ],
          [
           "2022-10-03",
           "Data"
          ],
          [
           "2022-10-04",
           "Data"
          ],
          [
           "2022-10-05",
           "Data"
          ],
          [
           "2022-10-06",
           "Data"
          ],
          [
           "2022-10-07",
           "Data"
          ],
          [
           "2022-10-08",
           "Data"
          ],
          [
           "2022-10-09",
           "Data"
          ],
          [
           "2022-10-10",
           "Data"
          ],
          [
           "2022-10-11",
           "Data"
          ],
          [
           "2022-10-12",
           "Data"
          ],
          [
           "2022-10-13",
           "Data"
          ],
          [
           "2022-10-14",
           "Data"
          ],
          [
           "2022-10-15",
           "Data"
          ],
          [
           "2022-10-16",
           "Data"
          ],
          [
           "2022-10-17",
           "Data"
          ],
          [
           "2022-10-18",
           "Data"
          ],
          [
           "2022-10-19",
           "Data"
          ],
          [
           "2022-10-20",
           "Data"
          ],
          [
           "2022-10-21",
           "Data"
          ],
          [
           "2022-10-22",
           "Data"
          ],
          [
           "2022-10-23",
           "Data"
          ],
          [
           "2022-10-24",
           "Data"
          ],
          [
           "2022-10-25",
           "Data"
          ],
          [
           "2022-10-26",
           "Data"
          ],
          [
           "2022-10-27",
           "Data"
          ],
          [
           "2022-10-28",
           "Data"
          ],
          [
           "2022-10-29",
           "Data"
          ],
          [
           "2022-10-30",
           "Data"
          ],
          [
           "2022-10-31",
           "Data"
          ],
          [
           "2022-11-01",
           "Data"
          ],
          [
           "2022-11-02",
           "Data"
          ],
          [
           "2022-11-03",
           "Data"
          ],
          [
           "2022-11-04",
           "Data"
          ],
          [
           "2022-11-05",
           "Data"
          ],
          [
           "2022-11-06",
           "Data"
          ],
          [
           "2022-11-07",
           "Data"
          ],
          [
           "2022-11-08",
           "Data"
          ],
          [
           "2022-11-09",
           "Data"
          ],
          [
           "2022-11-10",
           "Data"
          ],
          [
           "2022-11-11",
           "Data"
          ],
          [
           "2022-11-12",
           "Data"
          ],
          [
           "2022-11-13",
           "Data"
          ],
          [
           "2022-11-14",
           "Data"
          ],
          [
           "2022-11-15",
           "Data"
          ],
          [
           "2022-11-16",
           "Data"
          ],
          [
           "2022-11-17",
           "Data"
          ],
          [
           "2022-11-18",
           "Data"
          ],
          [
           "2022-11-19",
           "Data"
          ],
          [
           "2022-11-20",
           "Data"
          ],
          [
           "2022-11-21",
           "Data"
          ],
          [
           "2022-11-22",
           "Data"
          ],
          [
           "2022-11-23",
           "Data"
          ],
          [
           "2022-11-24",
           "Data"
          ],
          [
           "2022-11-25",
           "Data"
          ],
          [
           "2022-11-26",
           "Data"
          ],
          [
           "2022-11-27",
           "Data"
          ],
          [
           "2022-11-28",
           "Data"
          ],
          [
           "2022-11-29",
           "Data"
          ],
          [
           "2022-11-30",
           "Data"
          ],
          [
           "2022-12-01",
           "Data"
          ],
          [
           "2022-12-02",
           "Data"
          ],
          [
           "2022-12-03",
           "Data"
          ],
          [
           "2022-12-04",
           "Data"
          ],
          [
           "2022-12-05",
           "Data"
          ],
          [
           "2022-12-06",
           "Data"
          ],
          [
           "2022-12-07",
           "Data"
          ],
          [
           "2022-12-08",
           "Data"
          ],
          [
           "2022-12-09",
           "Data"
          ],
          [
           "2022-12-10",
           "Data"
          ],
          [
           "2022-12-11",
           "Data"
          ],
          [
           "2022-12-12",
           "Data"
          ],
          [
           "2022-12-13",
           "Data"
          ],
          [
           "2022-12-14",
           "Data"
          ],
          [
           "2022-12-15",
           "Data"
          ],
          [
           "2022-12-16",
           "Data"
          ],
          [
           "2022-12-17",
           "Data"
          ],
          [
           "2022-12-18",
           "Data"
          ],
          [
           "2022-12-19",
           "Data"
          ],
          [
           "2022-12-20",
           "Data"
          ],
          [
           "2022-12-21",
           "Data"
          ],
          [
           "2022-12-22",
           "Data"
          ],
          [
           "2022-12-23",
           "Data"
          ],
          [
           "2022-12-24",
           "Data"
          ],
          [
           "2022-12-25",
           "Data"
          ],
          [
           "2022-12-26",
           "Data"
          ],
          [
           "2022-12-27",
           "Data"
          ],
          [
           "2022-12-28",
           "Data"
          ],
          [
           "2022-12-29",
           "Data"
          ],
          [
           "2022-12-30",
           "Data"
          ],
          [
           "2022-12-31",
           "Data"
          ]
         ],
         "hovertemplate": "%{customdata[0]} <br>Week=%{x} <br>%{customdata[1]}=%{z}",
         "name": "2022",
         "showscale": false,
         "type": "heatmap",
         "x": [
          0,
          0,
          1,
          1,
          1,
          1,
          1,
          1,
          1,
          2,
          2,
          2,
          2,
          2,
          2,
          2,
          3,
          3,
          3,
          3,
          3,
          3,
          3,
          4,
          4,
          4,
          4,
          4,
          4,
          4,
          5,
          5,
          5,
          5,
          5,
          5,
          5,
          6,
          6,
          6,
          6,
          6,
          6,
          6,
          7,
          7,
          7,
          7,
          7,
          7,
          7,
          8,
          8,
          8,
          8,
          8,
          8,
          8,
          9,
          9,
          9,
          9,
          9,
          9,
          9,
          10,
          10,
          10,
          10,
          10,
          10,
          10,
          11,
          11,
          11,
          11,
          11,
          11,
          11,
          12,
          12,
          12,
          12,
          12,
          12,
          12,
          13,
          13,
          13,
          13,
          13,
          13,
          13,
          14,
          14,
          14,
          14,
          14,
          14,
          14,
          15,
          15,
          15,
          15,
          15,
          15,
          15,
          16,
          16,
          16,
          16,
          16,
          16,
          16,
          17,
          17,
          17,
          17,
          17,
          17,
          17,
          18,
          18,
          18,
          18,
          18,
          18,
          18,
          19,
          19,
          19,
          19,
          19,
          19,
          19,
          20,
          20,
          20,
          20,
          20,
          20,
          20,
          21,
          21,
          21,
          21,
          21,
          21,
          21,
          22,
          22,
          22,
          22,
          22,
          22,
          22,
          23,
          23,
          23,
          23,
          23,
          23,
          23,
          24,
          24,
          24,
          24,
          24,
          24,
          24,
          25,
          25,
          25,
          25,
          25,
          25,
          25,
          26,
          26,
          26,
          26,
          26,
          26,
          26,
          27,
          27,
          27,
          27,
          27,
          27,
          27,
          28,
          28,
          28,
          28,
          28,
          28,
          28,
          29,
          29,
          29,
          29,
          29,
          29,
          29,
          30,
          30,
          30,
          30,
          30,
          30,
          30,
          31,
          31,
          31,
          31,
          31,
          31,
          31,
          32,
          32,
          32,
          32,
          32,
          32,
          32,
          33,
          33,
          33,
          33,
          33,
          33,
          33,
          34,
          34,
          34,
          34,
          34,
          34,
          34,
          35,
          35,
          35,
          35,
          35,
          35,
          35,
          36,
          36,
          36,
          36,
          36,
          36,
          36,
          37,
          37,
          37,
          37,
          37,
          37,
          37,
          38,
          38,
          38,
          38,
          38,
          38,
          38,
          39,
          39,
          39,
          39,
          39,
          39,
          39,
          40,
          40,
          40,
          40,
          40,
          40,
          40,
          41,
          41,
          41,
          41,
          41,
          41,
          41,
          42,
          42,
          42,
          42,
          42,
          42,
          42,
          43,
          43,
          43,
          43,
          43,
          43,
          43,
          44,
          44,
          44,
          44,
          44,
          44,
          44,
          45,
          45,
          45,
          45,
          45,
          45,
          45,
          46,
          46,
          46,
          46,
          46,
          46,
          46,
          47,
          47,
          47,
          47,
          47,
          47,
          47,
          48,
          48,
          48,
          48,
          48,
          48,
          48,
          49,
          49,
          49,
          49,
          49,
          49,
          49,
          50,
          50,
          50,
          50,
          50,
          50,
          50,
          51,
          51,
          51,
          51,
          51,
          51,
          51,
          52,
          52,
          52,
          52,
          52,
          52
         ],
         "xaxis": "x",
         "xgap": 1,
         "y": [
          5,
          6,
          0,
          1,
          2,
          3,
          4,
          5,
          6,
          0,
          1,
          2,
          3,
          4,
          5,
          6,
          0,
          1,
          2,
          3,
          4,
          5,
          6,
          0,
          1,
          2,
          3,
          4,
          5,
          6,
          0,
          1,
          2,
          3,
          4,
          5,
          6,
          0,
          1,
          2,
          3,
          4,
          5,
          6,
          0,
          1,
          2,
          3,
          4,
          5,
          6,
          0,
          1,
          2,
          3,
          4,
          5,
          6,
          0,
          1,
          2,
          3,
          4,
          5,
          6,
          0,
          1,
          2,
          3,
          4,
          5,
          6,
          0,
          1,
          2,
          3,
          4,
          5,
          6,
          0,
          1,
          2,
          3,
          4,
          5,
          6,
          0,
          1,
          2,
          3,
          4,
          5,
          6,
          0,
          1,
          2,
          3,
          4,
          5,
          6,
          0,
          1,
          2,
          3,
          4,
          5,
          6,
          0,
          1,
          2,
          3,
          4,
          5,
          6,
          0,
          1,
          2,
          3,
          4,
          5,
          6,
          0,
          1,
          2,
          3,
          4,
          5,
          6,
          0,
          1,
          2,
          3,
          4,
          5,
          6,
          0,
          1,
          2,
          3,
          4,
          5,
          6,
          0,
          1,
          2,
          3,
          4,
          5,
          6,
          0,
          1,
          2,
          3,
          4,
          5,
          6,
          0,
          1,
          2,
          3,
          4,
          5,
          6,
          0,
          1,
          2,
          3,
          4,
          5,
          6,
          0,
          1,
          2,
          3,
          4,
          5,
          6,
          0,
          1,
          2,
          3,
          4,
          5,
          6,
          0,
          1,
          2,
          3,
          4,
          5,
          6,
          0,
          1,
          2,
          3,
          4,
          5,
          6,
          0,
          1,
          2,
          3,
          4,
          5,
          6,
          0,
          1,
          2,
          3,
          4,
          5,
          6,
          0,
          1,
          2,
          3,
          4,
          5,
          6,
          0,
          1,
          2,
          3,
          4,
          5,
          6,
          0,
          1,
          2,
          3,
          4,
          5,
          6,
          0,
          1,
          2,
          3,
          4,
          5,
          6,
          0,
          1,
          2,
          3,
          4,
          5,
          6,
          0,
          1,
          2,
          3,
          4,
          5,
          6,
          0,
          1,
          2,
          3,
          4,
          5,
          6,
          0,
          1,
          2,
          3,
          4,
          5,
          6,
          0,
          1,
          2,
          3,
          4,
          5,
          6,
          0,
          1,
          2,
          3,
          4,
          5,
          6,
          0,
          1,
          2,
          3,
          4,
          5,
          6,
          0,
          1,
          2,
          3,
          4,
          5,
          6,
          0,
          1,
          2,
          3,
          4,
          5,
          6,
          0,
          1,
          2,
          3,
          4,
          5,
          6,
          0,
          1,
          2,
          3,
          4,
          5,
          6,
          0,
          1,
          2,
          3,
          4,
          5,
          6,
          0,
          1,
          2,
          3,
          4,
          5,
          6,
          0,
          1,
          2,
          3,
          4,
          5,
          6,
          0,
          1,
          2,
          3,
          4,
          5,
          6,
          0,
          1,
          2,
          3,
          4,
          5,
          6,
          0,
          1,
          2,
          3,
          4,
          5,
          6,
          0,
          1,
          2,
          3,
          4,
          5
         ],
         "yaxis": "y",
         "ygap": 1,
         "z": [
          0.38095238095238093,
          0.38095238095238093,
          0.38095238095238093,
          0.38095238095238093,
          0.38095238095238093,
          0.3888888888888889,
          0.3888888888888889,
          0.3888888888888889,
          0.3888888888888889,
          0.3888888888888889,
          0.3888888888888889,
          0.3888888888888889,
          0.3888888888888889,
          0.38095238095238093,
          0.3412698412698413,
          0.3412698412698413,
          0.3412698412698413,
          0.3412698412698413,
          0.3412698412698413,
          0.3253968253968254,
          0.30952380952380953,
          0.3492063492063492,
          0.38095238095238093,
          0.38095238095238093,
          0.38095238095238093,
          0.38095238095238093,
          0.38095238095238093,
          0.38095238095238093,
          0.38095238095238093,
          0.38095238095238093,
          0.3888888888888889,
          0.3888888888888889,
          0.3888888888888889,
          0.3888888888888889,
          0.3888888888888889,
          0.36507936507936506,
          0.2857142857142857,
          0.2698412698412698,
          0.2857142857142857,
          0.35714285714285715,
          0.3888888888888889,
          0.3888888888888889,
          0.3888888888888889,
          0.3888888888888889,
          0.3888888888888889,
          0.4126984126984127,
          0.4126984126984127,
          0.4126984126984127,
          0.4126984126984127,
          0.42857142857142855,
          0.42857142857142855,
          0.42857142857142855,
          0.42857142857142855,
          0.42857142857142855,
          0.42857142857142855,
          0.42857142857142855,
          0.42857142857142855,
          0.42857142857142855,
          0.42857142857142855,
          0.42857142857142855,
          0.42857142857142855,
          0.42857142857142855,
          0.3968253968253968,
          0.3492063492063492,
          0.2857142857142857,
          0.38095238095238093,
          0.40476190476190477,
          0.4444444444444444,
          0.4603174603174603,
          0.4603174603174603,
          0.49206349206349204,
          0.5079365079365079,
          0.5079365079365079,
          0.5079365079365079,
          0.5079365079365079,
          0.5079365079365079,
          0.5079365079365079,
          0.5079365079365079,
          0.5079365079365079,
          0.5079365079365079,
          0.5079365079365079,
          0.5079365079365079,
          0.5079365079365079,
          0.5079365079365079,
          0.5079365079365079,
          0.5079365079365079,
          0.5079365079365079,
          0.5079365079365079,
          0.5079365079365079,
          0.5079365079365079,
          0.5079365079365079,
          0.5079365079365079,
          0.5079365079365079,
          0.5079365079365079,
          0.5079365079365079,
          0.5079365079365079,
          0.5079365079365079,
          0.5079365079365079,
          0.5079365079365079,
          0.5079365079365079,
          0.5079365079365079,
          0.49206349206349204,
          0.4444444444444444,
          0.4444444444444444,
          0.4444444444444444,
          0.4444444444444444,
          0.40476190476190477,
          0.3412698412698413,
          0.2857142857142857,
          0.2857142857142857,
          0.2857142857142857,
          0.2857142857142857,
          0.2777777777777778,
          0.2777777777777778,
          0.2777777777777778,
          0.2777777777777778,
          0.2619047619047619,
          0.2619047619047619,
          0.2619047619047619,
          0.2619047619047619,
          0.2619047619047619,
          0.2619047619047619,
          0.2619047619047619,
          0.25396825396825395,
          0.25396825396825395,
          0.25396825396825395,
          0.24603174603174602,
          0.24603174603174602,
          0.24603174603174602,
          0.24603174603174602,
          0.23809523809523808,
          0.23809523809523808,
          0.23809523809523808,
          0.23015873015873015,
          0.23015873015873015,
          0.2222222222222222,
          0.2222222222222222,
          0.20634920634920634,
          0.19047619047619047,
          0.18253968253968253,
          0.18253968253968253,
          0.18253968253968253,
          0.18253968253968253,
          0.18253968253968253,
          0.18253968253968253,
          0.18253968253968253,
          0.18253968253968253,
          0.18253968253968253,
          0.18253968253968253,
          0.18253968253968253,
          0.18253968253968253,
          0.18253968253968253,
          0.18253968253968253,
          0.18253968253968253,
          0.18253968253968253,
          0.18253968253968253,
          0.18253968253968253,
          0.18253968253968253,
          0.18253968253968253,
          0.18253968253968253,
          0.18253968253968253,
          0.18253968253968253,
          0.18253968253968253,
          0.18253968253968253,
          0.18253968253968253,
          0.18253968253968253,
          0.18253968253968253,
          0.19047619047619047,
          0.1984126984126984,
          0.1984126984126984,
          0.1984126984126984,
          0.1984126984126984,
          0.1984126984126984,
          0.1984126984126984,
          0.1984126984126984,
          0.1984126984126984,
          0.1984126984126984,
          0.1984126984126984,
          0.1984126984126984,
          0.1984126984126984,
          0.1984126984126984,
          0.1984126984126984,
          0.18253968253968253,
          0.18253968253968253,
          0.18253968253968253,
          0.18253968253968253,
          0.18253968253968253,
          0.18253968253968253,
          0.18253968253968253,
          0.18253968253968253,
          0.18253968253968253,
          0.18253968253968253,
          0.18253968253968253,
          0.18253968253968253,
          0.18253968253968253,
          0.18253968253968253,
          0.18253968253968253,
          0.18253968253968253,
          0.18253968253968253,
          0.18253968253968253,
          0.18253968253968253,
          0.18253968253968253,
          0.18253968253968253,
          0.18253968253968253,
          0.18253968253968253,
          0.18253968253968253,
          0.18253968253968253,
          0.18253968253968253,
          0.18253968253968253,
          0.18253968253968253,
          0.18253968253968253,
          0.18253968253968253,
          0.18253968253968253,
          0.18253968253968253,
          0.18253968253968253,
          0.18253968253968253,
          0.18253968253968253,
          0.18253968253968253,
          0.18253968253968253,
          0.18253968253968253,
          0.18253968253968253,
          0.19047619047619047,
          0.2857142857142857,
          0.2857142857142857,
          0.2857142857142857,
          0.2857142857142857,
          0.2857142857142857,
          0.2857142857142857,
          0.2857142857142857,
          0.29365079365079366,
          0.30158730158730157,
          0.31746031746031744,
          0.31746031746031744,
          0.31746031746031744,
          0.31746031746031744,
          0.31746031746031744,
          0.31746031746031744,
          0.31746031746031744,
          0.31746031746031744,
          0.31746031746031744,
          0.31746031746031744,
          0.31746031746031744,
          0.31746031746031744,
          0.31746031746031744,
          0.30158730158730157,
          0.2857142857142857,
          0.2857142857142857,
          0.21428571428571427,
          0.23809523809523808,
          0.373015873015873,
          0.3888888888888889,
          0.3888888888888889,
          0.3888888888888889,
          0.3888888888888889,
          0.3888888888888889,
          0.3888888888888889,
          0.3888888888888889,
          0.3888888888888889,
          0.3888888888888889,
          0.3888888888888889,
          0.3888888888888889,
          0.3888888888888889,
          0.3888888888888889,
          0.40476190476190477,
          0.40476190476190477,
          0.40476190476190477,
          0.40476190476190477,
          0.38095238095238093,
          0.38095238095238093,
          0.25396825396825395,
          0.2698412698412698,
          0.2857142857142857,
          0.2857142857142857,
          0.2857142857142857,
          0.2857142857142857,
          0.2857142857142857,
          0.2857142857142857,
          0.2857142857142857,
          0.2857142857142857,
          0.2857142857142857,
          0.2857142857142857,
          0.2857142857142857,
          0.2857142857142857,
          0.2857142857142857,
          0.2857142857142857,
          0.2857142857142857,
          0.2857142857142857,
          0.2857142857142857,
          0.2857142857142857,
          0.2857142857142857,
          0.2857142857142857,
          0.2857142857142857,
          0.2857142857142857,
          0.2857142857142857,
          0.2857142857142857,
          0.2777777777777778,
          0.2777777777777778,
          0.2698412698412698,
          0.2698412698412698,
          0.2698412698412698,
          0.2698412698412698,
          0.2698412698412698,
          0.2698412698412698,
          0.2698412698412698,
          0.2619047619047619,
          0.2619047619047619,
          0.2619047619047619,
          0.2619047619047619,
          0.2619047619047619,
          0.25396825396825395,
          0.25396825396825395,
          0.25396825396825395,
          0.25396825396825395,
          0.25396825396825395,
          0.25396825396825395,
          0.25396825396825395,
          0.25396825396825395,
          0.25396825396825395,
          0.25396825396825395,
          0.23809523809523808,
          0.23809523809523808,
          0.23809523809523808,
          0.23809523809523808,
          0.23809523809523808,
          0.23809523809523808,
          0.23809523809523808,
          0.23809523809523808,
          0.23809523809523808,
          0.23809523809523808,
          0.23809523809523808,
          0.23809523809523808,
          0.2222222222222222,
          0.2222222222222222,
          0.2222222222222222,
          0.21428571428571427,
          0.20634920634920634,
          0.20634920634920634,
          0.20634920634920634,
          0.1984126984126984,
          0.16666666666666666,
          0.15873015873015872,
          0.15079365079365079,
          0.15079365079365079,
          0.15079365079365079,
          0.15079365079365079,
          0.1349206349206349,
          0.14285714285714285,
          0.15079365079365079,
          0.15873015873015872,
          0.15873015873015872,
          0.15873015873015872,
          0.15873015873015872,
          0.1984126984126984,
          0.2222222222222222,
          0.23015873015873015,
          0.23015873015873015,
          0.2619047619047619,
          0.2619047619047619,
          0.2777777777777778,
          0.29365079365079366,
          0.3253968253968254,
          0.3412698412698413,
          0.3412698412698413,
          0.3253968253968254,
          0.35714285714285715
         ],
         "zmax": 0.5079365079365079,
         "zmin": 0
        },
        {
         "hoverinfo": "skip",
         "line": {
          "color": "#fff",
          "width": 2
         },
         "mode": "lines",
         "type": "scatter",
         "x": [
          -0.5,
          -0.5
         ],
         "xaxis": "x",
         "y": [
          4.5,
          6.5
         ],
         "yaxis": "y"
        },
        {
         "hoverinfo": "skip",
         "line": {
          "color": "#fff",
          "width": 2
         },
         "mode": "lines",
         "type": "scatter",
         "x": [
          -0.5,
          0.5
         ],
         "xaxis": "x",
         "y": [
          4.5,
          4.5
         ],
         "yaxis": "y"
        },
        {
         "hoverinfo": "skip",
         "line": {
          "color": "#fff",
          "width": 2
         },
         "mode": "lines",
         "type": "scatter",
         "x": [
          0.5,
          0.5
         ],
         "xaxis": "x",
         "y": [
          4.5,
          -0.5
         ],
         "yaxis": "y"
        },
        {
         "hoverinfo": "skip",
         "line": {
          "color": "#fff",
          "width": 2
         },
         "mode": "lines",
         "type": "scatter",
         "x": [
          4.5,
          4.5
         ],
         "xaxis": "x",
         "y": [
          0.5,
          6.5
         ],
         "yaxis": "y"
        },
        {
         "hoverinfo": "skip",
         "line": {
          "color": "#fff",
          "width": 2
         },
         "mode": "lines",
         "type": "scatter",
         "x": [
          4.5,
          5.5
         ],
         "xaxis": "x",
         "y": [
          0.5,
          0.5
         ],
         "yaxis": "y"
        },
        {
         "hoverinfo": "skip",
         "line": {
          "color": "#fff",
          "width": 2
         },
         "mode": "lines",
         "type": "scatter",
         "x": [
          5.5,
          5.5
         ],
         "xaxis": "x",
         "y": [
          0.5,
          -0.5
         ],
         "yaxis": "y"
        },
        {
         "hoverinfo": "skip",
         "line": {
          "color": "#fff",
          "width": 2
         },
         "mode": "lines",
         "type": "scatter",
         "x": [
          8.5,
          8.5
         ],
         "xaxis": "x",
         "y": [
          0.5,
          6.5
         ],
         "yaxis": "y"
        },
        {
         "hoverinfo": "skip",
         "line": {
          "color": "#fff",
          "width": 2
         },
         "mode": "lines",
         "type": "scatter",
         "x": [
          8.5,
          9.5
         ],
         "xaxis": "x",
         "y": [
          0.5,
          0.5
         ],
         "yaxis": "y"
        },
        {
         "hoverinfo": "skip",
         "line": {
          "color": "#fff",
          "width": 2
         },
         "mode": "lines",
         "type": "scatter",
         "x": [
          9.5,
          9.5
         ],
         "xaxis": "x",
         "y": [
          0.5,
          -0.5
         ],
         "yaxis": "y"
        },
        {
         "hoverinfo": "skip",
         "line": {
          "color": "#fff",
          "width": 2
         },
         "mode": "lines",
         "type": "scatter",
         "x": [
          12.5,
          12.5
         ],
         "xaxis": "x",
         "y": [
          3.5,
          6.5
         ],
         "yaxis": "y"
        },
        {
         "hoverinfo": "skip",
         "line": {
          "color": "#fff",
          "width": 2
         },
         "mode": "lines",
         "type": "scatter",
         "x": [
          12.5,
          13.5
         ],
         "xaxis": "x",
         "y": [
          3.5,
          3.5
         ],
         "yaxis": "y"
        },
        {
         "hoverinfo": "skip",
         "line": {
          "color": "#fff",
          "width": 2
         },
         "mode": "lines",
         "type": "scatter",
         "x": [
          13.5,
          13.5
         ],
         "xaxis": "x",
         "y": [
          3.5,
          -0.5
         ],
         "yaxis": "y"
        },
        {
         "hoverinfo": "skip",
         "line": {
          "color": "#fff",
          "width": 2
         },
         "mode": "lines",
         "type": "scatter",
         "x": [
          16.5,
          16.5
         ],
         "xaxis": "x",
         "y": [
          5.5,
          6.5
         ],
         "yaxis": "y"
        },
        {
         "hoverinfo": "skip",
         "line": {
          "color": "#fff",
          "width": 2
         },
         "mode": "lines",
         "type": "scatter",
         "x": [
          16.5,
          17.5
         ],
         "xaxis": "x",
         "y": [
          5.5,
          5.5
         ],
         "yaxis": "y"
        },
        {
         "hoverinfo": "skip",
         "line": {
          "color": "#fff",
          "width": 2
         },
         "mode": "lines",
         "type": "scatter",
         "x": [
          17.5,
          17.5
         ],
         "xaxis": "x",
         "y": [
          5.5,
          -0.5
         ],
         "yaxis": "y"
        },
        {
         "hoverinfo": "skip",
         "line": {
          "color": "#fff",
          "width": 2
         },
         "mode": "lines",
         "type": "scatter",
         "x": [
          21.5,
          21.5
         ],
         "xaxis": "x",
         "y": [
          1.5,
          6.5
         ],
         "yaxis": "y"
        },
        {
         "hoverinfo": "skip",
         "line": {
          "color": "#fff",
          "width": 2
         },
         "mode": "lines",
         "type": "scatter",
         "x": [
          21.5,
          22.5
         ],
         "xaxis": "x",
         "y": [
          1.5,
          1.5
         ],
         "yaxis": "y"
        },
        {
         "hoverinfo": "skip",
         "line": {
          "color": "#fff",
          "width": 2
         },
         "mode": "lines",
         "type": "scatter",
         "x": [
          22.5,
          22.5
         ],
         "xaxis": "x",
         "y": [
          1.5,
          -0.5
         ],
         "yaxis": "y"
        },
        {
         "hoverinfo": "skip",
         "line": {
          "color": "#fff",
          "width": 2
         },
         "mode": "lines",
         "type": "scatter",
         "x": [
          25.5,
          25.5
         ],
         "xaxis": "x",
         "y": [
          3.5,
          6.5
         ],
         "yaxis": "y"
        },
        {
         "hoverinfo": "skip",
         "line": {
          "color": "#fff",
          "width": 2
         },
         "mode": "lines",
         "type": "scatter",
         "x": [
          25.5,
          26.5
         ],
         "xaxis": "x",
         "y": [
          3.5,
          3.5
         ],
         "yaxis": "y"
        },
        {
         "hoverinfo": "skip",
         "line": {
          "color": "#fff",
          "width": 2
         },
         "mode": "lines",
         "type": "scatter",
         "x": [
          26.5,
          26.5
         ],
         "xaxis": "x",
         "y": [
          3.5,
          -0.5
         ],
         "yaxis": "y"
        },
        {
         "hoverinfo": "skip",
         "line": {
          "color": "#fff",
          "width": 2
         },
         "mode": "lines",
         "type": "scatter",
         "x": [
          30.5,
          30.5
         ],
         "xaxis": "x",
         "y": [
          -0.5,
          6.5
         ],
         "yaxis": "y"
        },
        {
         "hoverinfo": "skip",
         "line": {
          "color": "#fff",
          "width": 2
         },
         "mode": "lines",
         "type": "scatter",
         "x": [
          34.5,
          34.5
         ],
         "xaxis": "x",
         "y": [
          2.5,
          6.5
         ],
         "yaxis": "y"
        },
        {
         "hoverinfo": "skip",
         "line": {
          "color": "#fff",
          "width": 2
         },
         "mode": "lines",
         "type": "scatter",
         "x": [
          34.5,
          35.5
         ],
         "xaxis": "x",
         "y": [
          2.5,
          2.5
         ],
         "yaxis": "y"
        },
        {
         "hoverinfo": "skip",
         "line": {
          "color": "#fff",
          "width": 2
         },
         "mode": "lines",
         "type": "scatter",
         "x": [
          35.5,
          35.5
         ],
         "xaxis": "x",
         "y": [
          2.5,
          -0.5
         ],
         "yaxis": "y"
        },
        {
         "hoverinfo": "skip",
         "line": {
          "color": "#fff",
          "width": 2
         },
         "mode": "lines",
         "type": "scatter",
         "x": [
          38.5,
          38.5
         ],
         "xaxis": "x",
         "y": [
          4.5,
          6.5
         ],
         "yaxis": "y"
        },
        {
         "hoverinfo": "skip",
         "line": {
          "color": "#fff",
          "width": 2
         },
         "mode": "lines",
         "type": "scatter",
         "x": [
          38.5,
          39.5
         ],
         "xaxis": "x",
         "y": [
          4.5,
          4.5
         ],
         "yaxis": "y"
        },
        {
         "hoverinfo": "skip",
         "line": {
          "color": "#fff",
          "width": 2
         },
         "mode": "lines",
         "type": "scatter",
         "x": [
          39.5,
          39.5
         ],
         "xaxis": "x",
         "y": [
          4.5,
          -0.5
         ],
         "yaxis": "y"
        },
        {
         "hoverinfo": "skip",
         "line": {
          "color": "#fff",
          "width": 2
         },
         "mode": "lines",
         "type": "scatter",
         "x": [
          43.5,
          43.5
         ],
         "xaxis": "x",
         "y": [
          0.5,
          6.5
         ],
         "yaxis": "y"
        },
        {
         "hoverinfo": "skip",
         "line": {
          "color": "#fff",
          "width": 2
         },
         "mode": "lines",
         "type": "scatter",
         "x": [
          43.5,
          44.5
         ],
         "xaxis": "x",
         "y": [
          0.5,
          0.5
         ],
         "yaxis": "y"
        },
        {
         "hoverinfo": "skip",
         "line": {
          "color": "#fff",
          "width": 2
         },
         "mode": "lines",
         "type": "scatter",
         "x": [
          44.5,
          44.5
         ],
         "xaxis": "x",
         "y": [
          0.5,
          -0.5
         ],
         "yaxis": "y"
        },
        {
         "hoverinfo": "skip",
         "line": {
          "color": "#fff",
          "width": 2
         },
         "mode": "lines",
         "type": "scatter",
         "x": [
          47.5,
          47.5
         ],
         "xaxis": "x",
         "y": [
          2.5,
          6.5
         ],
         "yaxis": "y"
        },
        {
         "hoverinfo": "skip",
         "line": {
          "color": "#fff",
          "width": 2
         },
         "mode": "lines",
         "type": "scatter",
         "x": [
          47.5,
          48.5
         ],
         "xaxis": "x",
         "y": [
          2.5,
          2.5
         ],
         "yaxis": "y"
        },
        {
         "hoverinfo": "skip",
         "line": {
          "color": "#fff",
          "width": 2
         },
         "mode": "lines",
         "type": "scatter",
         "x": [
          48.5,
          48.5
         ],
         "xaxis": "x",
         "y": [
          2.5,
          -0.5
         ],
         "yaxis": "y"
        }
       ],
       "layout": {
        "annotations": [
         {
          "font": {
           "size": 16
          },
          "showarrow": false,
          "text": "2022",
          "x": 0.5,
          "xanchor": "center",
          "xref": "paper",
          "y": 1,
          "yanchor": "bottom",
          "yref": "paper"
         }
        ],
        "font": {
         "color": "#9e9e9e",
         "size": 10
        },
        "height": 150,
        "margin": {
         "b": 20,
         "t": 20
        },
        "plot_bgcolor": "#fff",
        "showlegend": false,
        "template": {
         "data": {
          "bar": [
           {
            "error_x": {
             "color": "#2a3f5f"
            },
            "error_y": {
             "color": "#2a3f5f"
            },
            "marker": {
             "line": {
              "color": "#E5ECF6",
              "width": 0.5
             },
             "pattern": {
              "fillmode": "overlay",
              "size": 10,
              "solidity": 0.2
             }
            },
            "type": "bar"
           }
          ],
          "barpolar": [
           {
            "marker": {
             "line": {
              "color": "#E5ECF6",
              "width": 0.5
             },
             "pattern": {
              "fillmode": "overlay",
              "size": 10,
              "solidity": 0.2
             }
            },
            "type": "barpolar"
           }
          ],
          "carpet": [
           {
            "aaxis": {
             "endlinecolor": "#2a3f5f",
             "gridcolor": "white",
             "linecolor": "white",
             "minorgridcolor": "white",
             "startlinecolor": "#2a3f5f"
            },
            "baxis": {
             "endlinecolor": "#2a3f5f",
             "gridcolor": "white",
             "linecolor": "white",
             "minorgridcolor": "white",
             "startlinecolor": "#2a3f5f"
            },
            "type": "carpet"
           }
          ],
          "choropleth": [
           {
            "colorbar": {
             "outlinewidth": 0,
             "ticks": ""
            },
            "type": "choropleth"
           }
          ],
          "contour": [
           {
            "colorbar": {
             "outlinewidth": 0,
             "ticks": ""
            },
            "colorscale": [
             [
              0,
              "#0d0887"
             ],
             [
              0.1111111111111111,
              "#46039f"
             ],
             [
              0.2222222222222222,
              "#7201a8"
             ],
             [
              0.3333333333333333,
              "#9c179e"
             ],
             [
              0.4444444444444444,
              "#bd3786"
             ],
             [
              0.5555555555555556,
              "#d8576b"
             ],
             [
              0.6666666666666666,
              "#ed7953"
             ],
             [
              0.7777777777777778,
              "#fb9f3a"
             ],
             [
              0.8888888888888888,
              "#fdca26"
             ],
             [
              1,
              "#f0f921"
             ]
            ],
            "type": "contour"
           }
          ],
          "contourcarpet": [
           {
            "colorbar": {
             "outlinewidth": 0,
             "ticks": ""
            },
            "type": "contourcarpet"
           }
          ],
          "heatmap": [
           {
            "colorbar": {
             "outlinewidth": 0,
             "ticks": ""
            },
            "colorscale": [
             [
              0,
              "#0d0887"
             ],
             [
              0.1111111111111111,
              "#46039f"
             ],
             [
              0.2222222222222222,
              "#7201a8"
             ],
             [
              0.3333333333333333,
              "#9c179e"
             ],
             [
              0.4444444444444444,
              "#bd3786"
             ],
             [
              0.5555555555555556,
              "#d8576b"
             ],
             [
              0.6666666666666666,
              "#ed7953"
             ],
             [
              0.7777777777777778,
              "#fb9f3a"
             ],
             [
              0.8888888888888888,
              "#fdca26"
             ],
             [
              1,
              "#f0f921"
             ]
            ],
            "type": "heatmap"
           }
          ],
          "heatmapgl": [
           {
            "colorbar": {
             "outlinewidth": 0,
             "ticks": ""
            },
            "colorscale": [
             [
              0,
              "#0d0887"
             ],
             [
              0.1111111111111111,
              "#46039f"
             ],
             [
              0.2222222222222222,
              "#7201a8"
             ],
             [
              0.3333333333333333,
              "#9c179e"
             ],
             [
              0.4444444444444444,
              "#bd3786"
             ],
             [
              0.5555555555555556,
              "#d8576b"
             ],
             [
              0.6666666666666666,
              "#ed7953"
             ],
             [
              0.7777777777777778,
              "#fb9f3a"
             ],
             [
              0.8888888888888888,
              "#fdca26"
             ],
             [
              1,
              "#f0f921"
             ]
            ],
            "type": "heatmapgl"
           }
          ],
          "histogram": [
           {
            "marker": {
             "pattern": {
              "fillmode": "overlay",
              "size": 10,
              "solidity": 0.2
             }
            },
            "type": "histogram"
           }
          ],
          "histogram2d": [
           {
            "colorbar": {
             "outlinewidth": 0,
             "ticks": ""
            },
            "colorscale": [
             [
              0,
              "#0d0887"
             ],
             [
              0.1111111111111111,
              "#46039f"
             ],
             [
              0.2222222222222222,
              "#7201a8"
             ],
             [
              0.3333333333333333,
              "#9c179e"
             ],
             [
              0.4444444444444444,
              "#bd3786"
             ],
             [
              0.5555555555555556,
              "#d8576b"
             ],
             [
              0.6666666666666666,
              "#ed7953"
             ],
             [
              0.7777777777777778,
              "#fb9f3a"
             ],
             [
              0.8888888888888888,
              "#fdca26"
             ],
             [
              1,
              "#f0f921"
             ]
            ],
            "type": "histogram2d"
           }
          ],
          "histogram2dcontour": [
           {
            "colorbar": {
             "outlinewidth": 0,
             "ticks": ""
            },
            "colorscale": [
             [
              0,
              "#0d0887"
             ],
             [
              0.1111111111111111,
              "#46039f"
             ],
             [
              0.2222222222222222,
              "#7201a8"
             ],
             [
              0.3333333333333333,
              "#9c179e"
             ],
             [
              0.4444444444444444,
              "#bd3786"
             ],
             [
              0.5555555555555556,
              "#d8576b"
             ],
             [
              0.6666666666666666,
              "#ed7953"
             ],
             [
              0.7777777777777778,
              "#fb9f3a"
             ],
             [
              0.8888888888888888,
              "#fdca26"
             ],
             [
              1,
              "#f0f921"
             ]
            ],
            "type": "histogram2dcontour"
           }
          ],
          "mesh3d": [
           {
            "colorbar": {
             "outlinewidth": 0,
             "ticks": ""
            },
            "type": "mesh3d"
           }
          ],
          "parcoords": [
           {
            "line": {
             "colorbar": {
              "outlinewidth": 0,
              "ticks": ""
             }
            },
            "type": "parcoords"
           }
          ],
          "pie": [
           {
            "automargin": true,
            "type": "pie"
           }
          ],
          "scatter": [
           {
            "fillpattern": {
             "fillmode": "overlay",
             "size": 10,
             "solidity": 0.2
            },
            "type": "scatter"
           }
          ],
          "scatter3d": [
           {
            "line": {
             "colorbar": {
              "outlinewidth": 0,
              "ticks": ""
             }
            },
            "marker": {
             "colorbar": {
              "outlinewidth": 0,
              "ticks": ""
             }
            },
            "type": "scatter3d"
           }
          ],
          "scattercarpet": [
           {
            "marker": {
             "colorbar": {
              "outlinewidth": 0,
              "ticks": ""
             }
            },
            "type": "scattercarpet"
           }
          ],
          "scattergeo": [
           {
            "marker": {
             "colorbar": {
              "outlinewidth": 0,
              "ticks": ""
             }
            },
            "type": "scattergeo"
           }
          ],
          "scattergl": [
           {
            "marker": {
             "colorbar": {
              "outlinewidth": 0,
              "ticks": ""
             }
            },
            "type": "scattergl"
           }
          ],
          "scattermapbox": [
           {
            "marker": {
             "colorbar": {
              "outlinewidth": 0,
              "ticks": ""
             }
            },
            "type": "scattermapbox"
           }
          ],
          "scatterpolar": [
           {
            "marker": {
             "colorbar": {
              "outlinewidth": 0,
              "ticks": ""
             }
            },
            "type": "scatterpolar"
           }
          ],
          "scatterpolargl": [
           {
            "marker": {
             "colorbar": {
              "outlinewidth": 0,
              "ticks": ""
             }
            },
            "type": "scatterpolargl"
           }
          ],
          "scatterternary": [
           {
            "marker": {
             "colorbar": {
              "outlinewidth": 0,
              "ticks": ""
             }
            },
            "type": "scatterternary"
           }
          ],
          "surface": [
           {
            "colorbar": {
             "outlinewidth": 0,
             "ticks": ""
            },
            "colorscale": [
             [
              0,
              "#0d0887"
             ],
             [
              0.1111111111111111,
              "#46039f"
             ],
             [
              0.2222222222222222,
              "#7201a8"
             ],
             [
              0.3333333333333333,
              "#9c179e"
             ],
             [
              0.4444444444444444,
              "#bd3786"
             ],
             [
              0.5555555555555556,
              "#d8576b"
             ],
             [
              0.6666666666666666,
              "#ed7953"
             ],
             [
              0.7777777777777778,
              "#fb9f3a"
             ],
             [
              0.8888888888888888,
              "#fdca26"
             ],
             [
              1,
              "#f0f921"
             ]
            ],
            "type": "surface"
           }
          ],
          "table": [
           {
            "cells": {
             "fill": {
              "color": "#EBF0F8"
             },
             "line": {
              "color": "white"
             }
            },
            "header": {
             "fill": {
              "color": "#C8D4E3"
             },
             "line": {
              "color": "white"
             }
            },
            "type": "table"
           }
          ]
         },
         "layout": {
          "annotationdefaults": {
           "arrowcolor": "#2a3f5f",
           "arrowhead": 0,
           "arrowwidth": 1
          },
          "autotypenumbers": "strict",
          "coloraxis": {
           "colorbar": {
            "outlinewidth": 0,
            "ticks": ""
           }
          },
          "colorscale": {
           "diverging": [
            [
             0,
             "#8e0152"
            ],
            [
             0.1,
             "#c51b7d"
            ],
            [
             0.2,
             "#de77ae"
            ],
            [
             0.3,
             "#f1b6da"
            ],
            [
             0.4,
             "#fde0ef"
            ],
            [
             0.5,
             "#f7f7f7"
            ],
            [
             0.6,
             "#e6f5d0"
            ],
            [
             0.7,
             "#b8e186"
            ],
            [
             0.8,
             "#7fbc41"
            ],
            [
             0.9,
             "#4d9221"
            ],
            [
             1,
             "#276419"
            ]
           ],
           "sequential": [
            [
             0,
             "#0d0887"
            ],
            [
             0.1111111111111111,
             "#46039f"
            ],
            [
             0.2222222222222222,
             "#7201a8"
            ],
            [
             0.3333333333333333,
             "#9c179e"
            ],
            [
             0.4444444444444444,
             "#bd3786"
            ],
            [
             0.5555555555555556,
             "#d8576b"
            ],
            [
             0.6666666666666666,
             "#ed7953"
            ],
            [
             0.7777777777777778,
             "#fb9f3a"
            ],
            [
             0.8888888888888888,
             "#fdca26"
            ],
            [
             1,
             "#f0f921"
            ]
           ],
           "sequentialminus": [
            [
             0,
             "#0d0887"
            ],
            [
             0.1111111111111111,
             "#46039f"
            ],
            [
             0.2222222222222222,
             "#7201a8"
            ],
            [
             0.3333333333333333,
             "#9c179e"
            ],
            [
             0.4444444444444444,
             "#bd3786"
            ],
            [
             0.5555555555555556,
             "#d8576b"
            ],
            [
             0.6666666666666666,
             "#ed7953"
            ],
            [
             0.7777777777777778,
             "#fb9f3a"
            ],
            [
             0.8888888888888888,
             "#fdca26"
            ],
            [
             1,
             "#f0f921"
            ]
           ]
          },
          "colorway": [
           "#636efa",
           "#EF553B",
           "#00cc96",
           "#ab63fa",
           "#FFA15A",
           "#19d3f3",
           "#FF6692",
           "#B6E880",
           "#FF97FF",
           "#FECB52"
          ],
          "font": {
           "color": "#2a3f5f"
          },
          "geo": {
           "bgcolor": "white",
           "lakecolor": "white",
           "landcolor": "#E5ECF6",
           "showlakes": true,
           "showland": true,
           "subunitcolor": "white"
          },
          "hoverlabel": {
           "align": "left"
          },
          "hovermode": "closest",
          "mapbox": {
           "style": "light"
          },
          "paper_bgcolor": "white",
          "plot_bgcolor": "#E5ECF6",
          "polar": {
           "angularaxis": {
            "gridcolor": "white",
            "linecolor": "white",
            "ticks": ""
           },
           "bgcolor": "#E5ECF6",
           "radialaxis": {
            "gridcolor": "white",
            "linecolor": "white",
            "ticks": ""
           }
          },
          "scene": {
           "xaxis": {
            "backgroundcolor": "#E5ECF6",
            "gridcolor": "white",
            "gridwidth": 2,
            "linecolor": "white",
            "showbackground": true,
            "ticks": "",
            "zerolinecolor": "white"
           },
           "yaxis": {
            "backgroundcolor": "#E5ECF6",
            "gridcolor": "white",
            "gridwidth": 2,
            "linecolor": "white",
            "showbackground": true,
            "ticks": "",
            "zerolinecolor": "white"
           },
           "zaxis": {
            "backgroundcolor": "#E5ECF6",
            "gridcolor": "white",
            "gridwidth": 2,
            "linecolor": "white",
            "showbackground": true,
            "ticks": "",
            "zerolinecolor": "white"
           }
          },
          "shapedefaults": {
           "line": {
            "color": "#2a3f5f"
           }
          },
          "ternary": {
           "aaxis": {
            "gridcolor": "white",
            "linecolor": "white",
            "ticks": ""
           },
           "baxis": {
            "gridcolor": "white",
            "linecolor": "white",
            "ticks": ""
           },
           "bgcolor": "#E5ECF6",
           "caxis": {
            "gridcolor": "white",
            "linecolor": "white",
            "ticks": ""
           }
          },
          "title": {
           "x": 0.05
          },
          "xaxis": {
           "automargin": true,
           "gridcolor": "white",
           "linecolor": "white",
           "ticks": "",
           "title": {
            "standoff": 15
           },
           "zerolinecolor": "white",
           "zerolinewidth": 2
          },
          "yaxis": {
           "automargin": true,
           "gridcolor": "white",
           "linecolor": "white",
           "ticks": "",
           "title": {
            "standoff": 15
           },
           "zerolinecolor": "white",
           "zerolinewidth": 2
          }
         }
        },
        "title": {
         "text": ""
        },
        "xaxis": {
         "anchor": "y",
         "domain": [
          0,
          1
         ],
         "showgrid": false,
         "showline": false,
         "tickmode": "array",
         "ticktext": [
          "January",
          "February",
          "March",
          "April",
          "May",
          "June",
          "July",
          "August",
          "September",
          "October",
          "November",
          "December"
         ],
         "tickvals": [
          2.2857142857142856,
          6.285714285714286,
          10.714285714285714,
          15,
          19.428571428571427,
          23.714285714285715,
          28.142857142857142,
          32.57142857142857,
          36.857142857142854,
          41.285714285714285,
          45.57142857142857,
          50
         ],
         "zeroline": false
        },
        "yaxis": {
         "anchor": "x",
         "autorange": "reversed",
         "domain": [
          0,
          1
         ],
         "showgrid": false,
         "showline": false,
         "tickmode": "array",
         "ticktext": [
          "Mon",
          "Tue",
          "Wed",
          "Thu",
          "Fri",
          "Sat",
          "Sun"
         ],
         "tickvals": [
          0,
          1,
          2,
          3,
          4,
          5,
          6
         ],
         "zeroline": false
        }
       }
      },
      "text/html": [
       "<div>                            <div id=\"c54f0d05-4c27-4ee6-90a1-df725c14870d\" class=\"plotly-graph-div\" style=\"height:150px; width:100%;\"></div>            <script type=\"text/javascript\">                require([\"plotly\"], function(Plotly) {                    window.PLOTLYENV=window.PLOTLYENV || {};                                    if (document.getElementById(\"c54f0d05-4c27-4ee6-90a1-df725c14870d\")) {                    Plotly.newPlot(                        \"c54f0d05-4c27-4ee6-90a1-df725c14870d\",                        [{\"colorscale\":[[0.0,\"rgb(255,245,240)\"],[0.125,\"rgb(254,224,210)\"],[0.25,\"rgb(252,187,161)\"],[0.375,\"rgb(252,146,114)\"],[0.5,\"rgb(251,106,74)\"],[0.625,\"rgb(239,59,44)\"],[0.75,\"rgb(203,24,29)\"],[0.875,\"rgb(165,15,21)\"],[1.0,\"rgb(103,0,13)\"]],\"customdata\":[[\"2022-01-01\",\"Data\"],[\"2022-01-02\",\"Data\"],[\"2022-01-03\",\"Data\"],[\"2022-01-04\",\"Data\"],[\"2022-01-05\",\"Data\"],[\"2022-01-06\",\"Data\"],[\"2022-01-07\",\"Data\"],[\"2022-01-08\",\"Data\"],[\"2022-01-09\",\"Data\"],[\"2022-01-10\",\"Data\"],[\"2022-01-11\",\"Data\"],[\"2022-01-12\",\"Data\"],[\"2022-01-13\",\"Data\"],[\"2022-01-14\",\"Data\"],[\"2022-01-15\",\"Data\"],[\"2022-01-16\",\"Data\"],[\"2022-01-17\",\"Data\"],[\"2022-01-18\",\"Data\"],[\"2022-01-19\",\"Data\"],[\"2022-01-20\",\"Data\"],[\"2022-01-21\",\"Data\"],[\"2022-01-22\",\"Data\"],[\"2022-01-23\",\"Data\"],[\"2022-01-24\",\"Data\"],[\"2022-01-25\",\"Data\"],[\"2022-01-26\",\"Data\"],[\"2022-01-27\",\"Data\"],[\"2022-01-28\",\"Data\"],[\"2022-01-29\",\"Data\"],[\"2022-01-30\",\"Data\"],[\"2022-01-31\",\"Data\"],[\"2022-02-01\",\"Data\"],[\"2022-02-02\",\"Data\"],[\"2022-02-03\",\"Data\"],[\"2022-02-04\",\"Data\"],[\"2022-02-05\",\"Data\"],[\"2022-02-06\",\"Data\"],[\"2022-02-07\",\"Data\"],[\"2022-02-08\",\"Data\"],[\"2022-02-09\",\"Data\"],[\"2022-02-10\",\"Data\"],[\"2022-02-11\",\"Data\"],[\"2022-02-12\",\"Data\"],[\"2022-02-13\",\"Data\"],[\"2022-02-14\",\"Data\"],[\"2022-02-15\",\"Data\"],[\"2022-02-16\",\"Data\"],[\"2022-02-17\",\"Data\"],[\"2022-02-18\",\"Data\"],[\"2022-02-19\",\"Data\"],[\"2022-02-20\",\"Data\"],[\"2022-02-21\",\"Data\"],[\"2022-02-22\",\"Data\"],[\"2022-02-23\",\"Data\"],[\"2022-02-24\",\"Data\"],[\"2022-02-25\",\"Data\"],[\"2022-02-26\",\"Data\"],[\"2022-02-27\",\"Data\"],[\"2022-02-28\",\"Data\"],[\"2022-03-01\",\"Data\"],[\"2022-03-02\",\"Data\"],[\"2022-03-03\",\"Data\"],[\"2022-03-04\",\"Data\"],[\"2022-03-05\",\"Data\"],[\"2022-03-06\",\"Data\"],[\"2022-03-07\",\"Data\"],[\"2022-03-08\",\"Data\"],[\"2022-03-09\",\"Data\"],[\"2022-03-10\",\"Data\"],[\"2022-03-11\",\"Data\"],[\"2022-03-12\",\"Data\"],[\"2022-03-13\",\"Data\"],[\"2022-03-14\",\"Data\"],[\"2022-03-15\",\"Data\"],[\"2022-03-16\",\"Data\"],[\"2022-03-17\",\"Data\"],[\"2022-03-18\",\"Data\"],[\"2022-03-19\",\"Data\"],[\"2022-03-20\",\"Data\"],[\"2022-03-21\",\"Data\"],[\"2022-03-22\",\"Data\"],[\"2022-03-23\",\"Data\"],[\"2022-03-24\",\"Data\"],[\"2022-03-25\",\"Data\"],[\"2022-03-26\",\"Data\"],[\"2022-03-27\",\"Data\"],[\"2022-03-28\",\"Data\"],[\"2022-03-29\",\"Data\"],[\"2022-03-30\",\"Data\"],[\"2022-03-31\",\"Data\"],[\"2022-04-01\",\"Data\"],[\"2022-04-02\",\"Data\"],[\"2022-04-03\",\"Data\"],[\"2022-04-04\",\"Data\"],[\"2022-04-05\",\"Data\"],[\"2022-04-06\",\"Data\"],[\"2022-04-07\",\"Data\"],[\"2022-04-08\",\"Data\"],[\"2022-04-09\",\"Data\"],[\"2022-04-10\",\"Data\"],[\"2022-04-11\",\"Data\"],[\"2022-04-12\",\"Data\"],[\"2022-04-13\",\"Data\"],[\"2022-04-14\",\"Data\"],[\"2022-04-15\",\"Data\"],[\"2022-04-16\",\"Data\"],[\"2022-04-17\",\"Data\"],[\"2022-04-18\",\"Data\"],[\"2022-04-19\",\"Data\"],[\"2022-04-20\",\"Data\"],[\"2022-04-21\",\"Data\"],[\"2022-04-22\",\"Data\"],[\"2022-04-23\",\"Data\"],[\"2022-04-24\",\"Data\"],[\"2022-04-25\",\"Data\"],[\"2022-04-26\",\"Data\"],[\"2022-04-27\",\"Data\"],[\"2022-04-28\",\"Data\"],[\"2022-04-29\",\"Data\"],[\"2022-04-30\",\"Data\"],[\"2022-05-01\",\"Data\"],[\"2022-05-02\",\"Data\"],[\"2022-05-03\",\"Data\"],[\"2022-05-04\",\"Data\"],[\"2022-05-05\",\"Data\"],[\"2022-05-06\",\"Data\"],[\"2022-05-07\",\"Data\"],[\"2022-05-08\",\"Data\"],[\"2022-05-09\",\"Data\"],[\"2022-05-10\",\"Data\"],[\"2022-05-11\",\"Data\"],[\"2022-05-12\",\"Data\"],[\"2022-05-13\",\"Data\"],[\"2022-05-14\",\"Data\"],[\"2022-05-15\",\"Data\"],[\"2022-05-16\",\"Data\"],[\"2022-05-17\",\"Data\"],[\"2022-05-18\",\"Data\"],[\"2022-05-19\",\"Data\"],[\"2022-05-20\",\"Data\"],[\"2022-05-21\",\"Data\"],[\"2022-05-22\",\"Data\"],[\"2022-05-23\",\"Data\"],[\"2022-05-24\",\"Data\"],[\"2022-05-25\",\"Data\"],[\"2022-05-26\",\"Data\"],[\"2022-05-27\",\"Data\"],[\"2022-05-28\",\"Data\"],[\"2022-05-29\",\"Data\"],[\"2022-05-30\",\"Data\"],[\"2022-05-31\",\"Data\"],[\"2022-06-01\",\"Data\"],[\"2022-06-02\",\"Data\"],[\"2022-06-03\",\"Data\"],[\"2022-06-04\",\"Data\"],[\"2022-06-05\",\"Data\"],[\"2022-06-06\",\"Data\"],[\"2022-06-07\",\"Data\"],[\"2022-06-08\",\"Data\"],[\"2022-06-09\",\"Data\"],[\"2022-06-10\",\"Data\"],[\"2022-06-11\",\"Data\"],[\"2022-06-12\",\"Data\"],[\"2022-06-13\",\"Data\"],[\"2022-06-14\",\"Data\"],[\"2022-06-15\",\"Data\"],[\"2022-06-16\",\"Data\"],[\"2022-06-17\",\"Data\"],[\"2022-06-18\",\"Data\"],[\"2022-06-19\",\"Data\"],[\"2022-06-20\",\"Data\"],[\"2022-06-21\",\"Data\"],[\"2022-06-22\",\"Data\"],[\"2022-06-23\",\"Data\"],[\"2022-06-24\",\"Data\"],[\"2022-06-25\",\"Data\"],[\"2022-06-26\",\"Data\"],[\"2022-06-27\",\"Data\"],[\"2022-06-28\",\"Data\"],[\"2022-06-29\",\"Data\"],[\"2022-06-30\",\"Data\"],[\"2022-07-01\",\"Data\"],[\"2022-07-02\",\"Data\"],[\"2022-07-03\",\"Data\"],[\"2022-07-04\",\"Data\"],[\"2022-07-05\",\"Data\"],[\"2022-07-06\",\"Data\"],[\"2022-07-07\",\"Data\"],[\"2022-07-08\",\"Data\"],[\"2022-07-09\",\"Data\"],[\"2022-07-10\",\"Data\"],[\"2022-07-11\",\"Data\"],[\"2022-07-12\",\"Data\"],[\"2022-07-13\",\"Data\"],[\"2022-07-14\",\"Data\"],[\"2022-07-15\",\"Data\"],[\"2022-07-16\",\"Data\"],[\"2022-07-17\",\"Data\"],[\"2022-07-18\",\"Data\"],[\"2022-07-19\",\"Data\"],[\"2022-07-20\",\"Data\"],[\"2022-07-21\",\"Data\"],[\"2022-07-22\",\"Data\"],[\"2022-07-23\",\"Data\"],[\"2022-07-24\",\"Data\"],[\"2022-07-25\",\"Data\"],[\"2022-07-26\",\"Data\"],[\"2022-07-27\",\"Data\"],[\"2022-07-28\",\"Data\"],[\"2022-07-29\",\"Data\"],[\"2022-07-30\",\"Data\"],[\"2022-07-31\",\"Data\"],[\"2022-08-01\",\"Data\"],[\"2022-08-02\",\"Data\"],[\"2022-08-03\",\"Data\"],[\"2022-08-04\",\"Data\"],[\"2022-08-05\",\"Data\"],[\"2022-08-06\",\"Data\"],[\"2022-08-07\",\"Data\"],[\"2022-08-08\",\"Data\"],[\"2022-08-09\",\"Data\"],[\"2022-08-10\",\"Data\"],[\"2022-08-11\",\"Data\"],[\"2022-08-12\",\"Data\"],[\"2022-08-13\",\"Data\"],[\"2022-08-14\",\"Data\"],[\"2022-08-15\",\"Data\"],[\"2022-08-16\",\"Data\"],[\"2022-08-17\",\"Data\"],[\"2022-08-18\",\"Data\"],[\"2022-08-19\",\"Data\"],[\"2022-08-20\",\"Data\"],[\"2022-08-21\",\"Data\"],[\"2022-08-22\",\"Data\"],[\"2022-08-23\",\"Data\"],[\"2022-08-24\",\"Data\"],[\"2022-08-25\",\"Data\"],[\"2022-08-26\",\"Data\"],[\"2022-08-27\",\"Data\"],[\"2022-08-28\",\"Data\"],[\"2022-08-29\",\"Data\"],[\"2022-08-30\",\"Data\"],[\"2022-08-31\",\"Data\"],[\"2022-09-01\",\"Data\"],[\"2022-09-02\",\"Data\"],[\"2022-09-03\",\"Data\"],[\"2022-09-04\",\"Data\"],[\"2022-09-05\",\"Data\"],[\"2022-09-06\",\"Data\"],[\"2022-09-07\",\"Data\"],[\"2022-09-08\",\"Data\"],[\"2022-09-09\",\"Data\"],[\"2022-09-10\",\"Data\"],[\"2022-09-11\",\"Data\"],[\"2022-09-12\",\"Data\"],[\"2022-09-13\",\"Data\"],[\"2022-09-14\",\"Data\"],[\"2022-09-15\",\"Data\"],[\"2022-09-16\",\"Data\"],[\"2022-09-17\",\"Data\"],[\"2022-09-18\",\"Data\"],[\"2022-09-19\",\"Data\"],[\"2022-09-20\",\"Data\"],[\"2022-09-21\",\"Data\"],[\"2022-09-22\",\"Data\"],[\"2022-09-23\",\"Data\"],[\"2022-09-24\",\"Data\"],[\"2022-09-25\",\"Data\"],[\"2022-09-26\",\"Data\"],[\"2022-09-27\",\"Data\"],[\"2022-09-28\",\"Data\"],[\"2022-09-29\",\"Data\"],[\"2022-09-30\",\"Data\"],[\"2022-10-01\",\"Data\"],[\"2022-10-02\",\"Data\"],[\"2022-10-03\",\"Data\"],[\"2022-10-04\",\"Data\"],[\"2022-10-05\",\"Data\"],[\"2022-10-06\",\"Data\"],[\"2022-10-07\",\"Data\"],[\"2022-10-08\",\"Data\"],[\"2022-10-09\",\"Data\"],[\"2022-10-10\",\"Data\"],[\"2022-10-11\",\"Data\"],[\"2022-10-12\",\"Data\"],[\"2022-10-13\",\"Data\"],[\"2022-10-14\",\"Data\"],[\"2022-10-15\",\"Data\"],[\"2022-10-16\",\"Data\"],[\"2022-10-17\",\"Data\"],[\"2022-10-18\",\"Data\"],[\"2022-10-19\",\"Data\"],[\"2022-10-20\",\"Data\"],[\"2022-10-21\",\"Data\"],[\"2022-10-22\",\"Data\"],[\"2022-10-23\",\"Data\"],[\"2022-10-24\",\"Data\"],[\"2022-10-25\",\"Data\"],[\"2022-10-26\",\"Data\"],[\"2022-10-27\",\"Data\"],[\"2022-10-28\",\"Data\"],[\"2022-10-29\",\"Data\"],[\"2022-10-30\",\"Data\"],[\"2022-10-31\",\"Data\"],[\"2022-11-01\",\"Data\"],[\"2022-11-02\",\"Data\"],[\"2022-11-03\",\"Data\"],[\"2022-11-04\",\"Data\"],[\"2022-11-05\",\"Data\"],[\"2022-11-06\",\"Data\"],[\"2022-11-07\",\"Data\"],[\"2022-11-08\",\"Data\"],[\"2022-11-09\",\"Data\"],[\"2022-11-10\",\"Data\"],[\"2022-11-11\",\"Data\"],[\"2022-11-12\",\"Data\"],[\"2022-11-13\",\"Data\"],[\"2022-11-14\",\"Data\"],[\"2022-11-15\",\"Data\"],[\"2022-11-16\",\"Data\"],[\"2022-11-17\",\"Data\"],[\"2022-11-18\",\"Data\"],[\"2022-11-19\",\"Data\"],[\"2022-11-20\",\"Data\"],[\"2022-11-21\",\"Data\"],[\"2022-11-22\",\"Data\"],[\"2022-11-23\",\"Data\"],[\"2022-11-24\",\"Data\"],[\"2022-11-25\",\"Data\"],[\"2022-11-26\",\"Data\"],[\"2022-11-27\",\"Data\"],[\"2022-11-28\",\"Data\"],[\"2022-11-29\",\"Data\"],[\"2022-11-30\",\"Data\"],[\"2022-12-01\",\"Data\"],[\"2022-12-02\",\"Data\"],[\"2022-12-03\",\"Data\"],[\"2022-12-04\",\"Data\"],[\"2022-12-05\",\"Data\"],[\"2022-12-06\",\"Data\"],[\"2022-12-07\",\"Data\"],[\"2022-12-08\",\"Data\"],[\"2022-12-09\",\"Data\"],[\"2022-12-10\",\"Data\"],[\"2022-12-11\",\"Data\"],[\"2022-12-12\",\"Data\"],[\"2022-12-13\",\"Data\"],[\"2022-12-14\",\"Data\"],[\"2022-12-15\",\"Data\"],[\"2022-12-16\",\"Data\"],[\"2022-12-17\",\"Data\"],[\"2022-12-18\",\"Data\"],[\"2022-12-19\",\"Data\"],[\"2022-12-20\",\"Data\"],[\"2022-12-21\",\"Data\"],[\"2022-12-22\",\"Data\"],[\"2022-12-23\",\"Data\"],[\"2022-12-24\",\"Data\"],[\"2022-12-25\",\"Data\"],[\"2022-12-26\",\"Data\"],[\"2022-12-27\",\"Data\"],[\"2022-12-28\",\"Data\"],[\"2022-12-29\",\"Data\"],[\"2022-12-30\",\"Data\"],[\"2022-12-31\",\"Data\"]],\"hovertemplate\":\"%{customdata[0]} <br>Week=%{x} <br>%{customdata[1]}=%{z}\",\"name\":\"2022\",\"showscale\":false,\"x\":[0,0,1,1,1,1,1,1,1,2,2,2,2,2,2,2,3,3,3,3,3,3,3,4,4,4,4,4,4,4,5,5,5,5,5,5,5,6,6,6,6,6,6,6,7,7,7,7,7,7,7,8,8,8,8,8,8,8,9,9,9,9,9,9,9,10,10,10,10,10,10,10,11,11,11,11,11,11,11,12,12,12,12,12,12,12,13,13,13,13,13,13,13,14,14,14,14,14,14,14,15,15,15,15,15,15,15,16,16,16,16,16,16,16,17,17,17,17,17,17,17,18,18,18,18,18,18,18,19,19,19,19,19,19,19,20,20,20,20,20,20,20,21,21,21,21,21,21,21,22,22,22,22,22,22,22,23,23,23,23,23,23,23,24,24,24,24,24,24,24,25,25,25,25,25,25,25,26,26,26,26,26,26,26,27,27,27,27,27,27,27,28,28,28,28,28,28,28,29,29,29,29,29,29,29,30,30,30,30,30,30,30,31,31,31,31,31,31,31,32,32,32,32,32,32,32,33,33,33,33,33,33,33,34,34,34,34,34,34,34,35,35,35,35,35,35,35,36,36,36,36,36,36,36,37,37,37,37,37,37,37,38,38,38,38,38,38,38,39,39,39,39,39,39,39,40,40,40,40,40,40,40,41,41,41,41,41,41,41,42,42,42,42,42,42,42,43,43,43,43,43,43,43,44,44,44,44,44,44,44,45,45,45,45,45,45,45,46,46,46,46,46,46,46,47,47,47,47,47,47,47,48,48,48,48,48,48,48,49,49,49,49,49,49,49,50,50,50,50,50,50,50,51,51,51,51,51,51,51,52,52,52,52,52,52],\"xgap\":1,\"y\":[5,6,0,1,2,3,4,5,6,0,1,2,3,4,5,6,0,1,2,3,4,5,6,0,1,2,3,4,5,6,0,1,2,3,4,5,6,0,1,2,3,4,5,6,0,1,2,3,4,5,6,0,1,2,3,4,5,6,0,1,2,3,4,5,6,0,1,2,3,4,5,6,0,1,2,3,4,5,6,0,1,2,3,4,5,6,0,1,2,3,4,5,6,0,1,2,3,4,5,6,0,1,2,3,4,5,6,0,1,2,3,4,5,6,0,1,2,3,4,5,6,0,1,2,3,4,5,6,0,1,2,3,4,5,6,0,1,2,3,4,5,6,0,1,2,3,4,5,6,0,1,2,3,4,5,6,0,1,2,3,4,5,6,0,1,2,3,4,5,6,0,1,2,3,4,5,6,0,1,2,3,4,5,6,0,1,2,3,4,5,6,0,1,2,3,4,5,6,0,1,2,3,4,5,6,0,1,2,3,4,5,6,0,1,2,3,4,5,6,0,1,2,3,4,5,6,0,1,2,3,4,5,6,0,1,2,3,4,5,6,0,1,2,3,4,5,6,0,1,2,3,4,5,6,0,1,2,3,4,5,6,0,1,2,3,4,5,6,0,1,2,3,4,5,6,0,1,2,3,4,5,6,0,1,2,3,4,5,6,0,1,2,3,4,5,6,0,1,2,3,4,5,6,0,1,2,3,4,5,6,0,1,2,3,4,5,6,0,1,2,3,4,5,6,0,1,2,3,4,5,6,0,1,2,3,4,5,6,0,1,2,3,4,5,6,0,1,2,3,4,5,6,0,1,2,3,4,5,6,0,1,2,3,4,5],\"ygap\":1,\"z\":[0.38095238095238093,0.38095238095238093,0.38095238095238093,0.38095238095238093,0.38095238095238093,0.3888888888888889,0.3888888888888889,0.3888888888888889,0.3888888888888889,0.3888888888888889,0.3888888888888889,0.3888888888888889,0.3888888888888889,0.38095238095238093,0.3412698412698413,0.3412698412698413,0.3412698412698413,0.3412698412698413,0.3412698412698413,0.3253968253968254,0.30952380952380953,0.3492063492063492,0.38095238095238093,0.38095238095238093,0.38095238095238093,0.38095238095238093,0.38095238095238093,0.38095238095238093,0.38095238095238093,0.38095238095238093,0.3888888888888889,0.3888888888888889,0.3888888888888889,0.3888888888888889,0.3888888888888889,0.36507936507936506,0.2857142857142857,0.2698412698412698,0.2857142857142857,0.35714285714285715,0.3888888888888889,0.3888888888888889,0.3888888888888889,0.3888888888888889,0.3888888888888889,0.4126984126984127,0.4126984126984127,0.4126984126984127,0.4126984126984127,0.42857142857142855,0.42857142857142855,0.42857142857142855,0.42857142857142855,0.42857142857142855,0.42857142857142855,0.42857142857142855,0.42857142857142855,0.42857142857142855,0.42857142857142855,0.42857142857142855,0.42857142857142855,0.42857142857142855,0.3968253968253968,0.3492063492063492,0.2857142857142857,0.38095238095238093,0.40476190476190477,0.4444444444444444,0.4603174603174603,0.4603174603174603,0.49206349206349204,0.5079365079365079,0.5079365079365079,0.5079365079365079,0.5079365079365079,0.5079365079365079,0.5079365079365079,0.5079365079365079,0.5079365079365079,0.5079365079365079,0.5079365079365079,0.5079365079365079,0.5079365079365079,0.5079365079365079,0.5079365079365079,0.5079365079365079,0.5079365079365079,0.5079365079365079,0.5079365079365079,0.5079365079365079,0.5079365079365079,0.5079365079365079,0.5079365079365079,0.5079365079365079,0.5079365079365079,0.5079365079365079,0.5079365079365079,0.5079365079365079,0.5079365079365079,0.5079365079365079,0.5079365079365079,0.49206349206349204,0.4444444444444444,0.4444444444444444,0.4444444444444444,0.4444444444444444,0.40476190476190477,0.3412698412698413,0.2857142857142857,0.2857142857142857,0.2857142857142857,0.2857142857142857,0.2777777777777778,0.2777777777777778,0.2777777777777778,0.2777777777777778,0.2619047619047619,0.2619047619047619,0.2619047619047619,0.2619047619047619,0.2619047619047619,0.2619047619047619,0.2619047619047619,0.25396825396825395,0.25396825396825395,0.25396825396825395,0.24603174603174602,0.24603174603174602,0.24603174603174602,0.24603174603174602,0.23809523809523808,0.23809523809523808,0.23809523809523808,0.23015873015873015,0.23015873015873015,0.2222222222222222,0.2222222222222222,0.20634920634920634,0.19047619047619047,0.18253968253968253,0.18253968253968253,0.18253968253968253,0.18253968253968253,0.18253968253968253,0.18253968253968253,0.18253968253968253,0.18253968253968253,0.18253968253968253,0.18253968253968253,0.18253968253968253,0.18253968253968253,0.18253968253968253,0.18253968253968253,0.18253968253968253,0.18253968253968253,0.18253968253968253,0.18253968253968253,0.18253968253968253,0.18253968253968253,0.18253968253968253,0.18253968253968253,0.18253968253968253,0.18253968253968253,0.18253968253968253,0.18253968253968253,0.18253968253968253,0.18253968253968253,0.19047619047619047,0.1984126984126984,0.1984126984126984,0.1984126984126984,0.1984126984126984,0.1984126984126984,0.1984126984126984,0.1984126984126984,0.1984126984126984,0.1984126984126984,0.1984126984126984,0.1984126984126984,0.1984126984126984,0.1984126984126984,0.1984126984126984,0.18253968253968253,0.18253968253968253,0.18253968253968253,0.18253968253968253,0.18253968253968253,0.18253968253968253,0.18253968253968253,0.18253968253968253,0.18253968253968253,0.18253968253968253,0.18253968253968253,0.18253968253968253,0.18253968253968253,0.18253968253968253,0.18253968253968253,0.18253968253968253,0.18253968253968253,0.18253968253968253,0.18253968253968253,0.18253968253968253,0.18253968253968253,0.18253968253968253,0.18253968253968253,0.18253968253968253,0.18253968253968253,0.18253968253968253,0.18253968253968253,0.18253968253968253,0.18253968253968253,0.18253968253968253,0.18253968253968253,0.18253968253968253,0.18253968253968253,0.18253968253968253,0.18253968253968253,0.18253968253968253,0.18253968253968253,0.18253968253968253,0.18253968253968253,0.19047619047619047,0.2857142857142857,0.2857142857142857,0.2857142857142857,0.2857142857142857,0.2857142857142857,0.2857142857142857,0.2857142857142857,0.29365079365079366,0.30158730158730157,0.31746031746031744,0.31746031746031744,0.31746031746031744,0.31746031746031744,0.31746031746031744,0.31746031746031744,0.31746031746031744,0.31746031746031744,0.31746031746031744,0.31746031746031744,0.31746031746031744,0.31746031746031744,0.31746031746031744,0.30158730158730157,0.2857142857142857,0.2857142857142857,0.21428571428571427,0.23809523809523808,0.373015873015873,0.3888888888888889,0.3888888888888889,0.3888888888888889,0.3888888888888889,0.3888888888888889,0.3888888888888889,0.3888888888888889,0.3888888888888889,0.3888888888888889,0.3888888888888889,0.3888888888888889,0.3888888888888889,0.3888888888888889,0.40476190476190477,0.40476190476190477,0.40476190476190477,0.40476190476190477,0.38095238095238093,0.38095238095238093,0.25396825396825395,0.2698412698412698,0.2857142857142857,0.2857142857142857,0.2857142857142857,0.2857142857142857,0.2857142857142857,0.2857142857142857,0.2857142857142857,0.2857142857142857,0.2857142857142857,0.2857142857142857,0.2857142857142857,0.2857142857142857,0.2857142857142857,0.2857142857142857,0.2857142857142857,0.2857142857142857,0.2857142857142857,0.2857142857142857,0.2857142857142857,0.2857142857142857,0.2857142857142857,0.2857142857142857,0.2857142857142857,0.2857142857142857,0.2777777777777778,0.2777777777777778,0.2698412698412698,0.2698412698412698,0.2698412698412698,0.2698412698412698,0.2698412698412698,0.2698412698412698,0.2698412698412698,0.2619047619047619,0.2619047619047619,0.2619047619047619,0.2619047619047619,0.2619047619047619,0.25396825396825395,0.25396825396825395,0.25396825396825395,0.25396825396825395,0.25396825396825395,0.25396825396825395,0.25396825396825395,0.25396825396825395,0.25396825396825395,0.25396825396825395,0.23809523809523808,0.23809523809523808,0.23809523809523808,0.23809523809523808,0.23809523809523808,0.23809523809523808,0.23809523809523808,0.23809523809523808,0.23809523809523808,0.23809523809523808,0.23809523809523808,0.23809523809523808,0.2222222222222222,0.2222222222222222,0.2222222222222222,0.21428571428571427,0.20634920634920634,0.20634920634920634,0.20634920634920634,0.1984126984126984,0.16666666666666666,0.15873015873015872,0.15079365079365079,0.15079365079365079,0.15079365079365079,0.15079365079365079,0.1349206349206349,0.14285714285714285,0.15079365079365079,0.15873015873015872,0.15873015873015872,0.15873015873015872,0.15873015873015872,0.1984126984126984,0.2222222222222222,0.23015873015873015,0.23015873015873015,0.2619047619047619,0.2619047619047619,0.2777777777777778,0.29365079365079366,0.3253968253968254,0.3412698412698413,0.3412698412698413,0.3253968253968254,0.35714285714285715],\"type\":\"heatmap\",\"xaxis\":\"x\",\"yaxis\":\"y\",\"zmax\":0.5079365079365079,\"zmin\":0},{\"hoverinfo\":\"skip\",\"line\":{\"color\":\"#fff\",\"width\":2},\"mode\":\"lines\",\"x\":[-0.5,-0.5],\"y\":[4.5,6.5],\"type\":\"scatter\",\"xaxis\":\"x\",\"yaxis\":\"y\"},{\"hoverinfo\":\"skip\",\"line\":{\"color\":\"#fff\",\"width\":2},\"mode\":\"lines\",\"x\":[-0.5,0.5],\"y\":[4.5,4.5],\"type\":\"scatter\",\"xaxis\":\"x\",\"yaxis\":\"y\"},{\"hoverinfo\":\"skip\",\"line\":{\"color\":\"#fff\",\"width\":2},\"mode\":\"lines\",\"x\":[0.5,0.5],\"y\":[4.5,-0.5],\"type\":\"scatter\",\"xaxis\":\"x\",\"yaxis\":\"y\"},{\"hoverinfo\":\"skip\",\"line\":{\"color\":\"#fff\",\"width\":2},\"mode\":\"lines\",\"x\":[4.5,4.5],\"y\":[0.5,6.5],\"type\":\"scatter\",\"xaxis\":\"x\",\"yaxis\":\"y\"},{\"hoverinfo\":\"skip\",\"line\":{\"color\":\"#fff\",\"width\":2},\"mode\":\"lines\",\"x\":[4.5,5.5],\"y\":[0.5,0.5],\"type\":\"scatter\",\"xaxis\":\"x\",\"yaxis\":\"y\"},{\"hoverinfo\":\"skip\",\"line\":{\"color\":\"#fff\",\"width\":2},\"mode\":\"lines\",\"x\":[5.5,5.5],\"y\":[0.5,-0.5],\"type\":\"scatter\",\"xaxis\":\"x\",\"yaxis\":\"y\"},{\"hoverinfo\":\"skip\",\"line\":{\"color\":\"#fff\",\"width\":2},\"mode\":\"lines\",\"x\":[8.5,8.5],\"y\":[0.5,6.5],\"type\":\"scatter\",\"xaxis\":\"x\",\"yaxis\":\"y\"},{\"hoverinfo\":\"skip\",\"line\":{\"color\":\"#fff\",\"width\":2},\"mode\":\"lines\",\"x\":[8.5,9.5],\"y\":[0.5,0.5],\"type\":\"scatter\",\"xaxis\":\"x\",\"yaxis\":\"y\"},{\"hoverinfo\":\"skip\",\"line\":{\"color\":\"#fff\",\"width\":2},\"mode\":\"lines\",\"x\":[9.5,9.5],\"y\":[0.5,-0.5],\"type\":\"scatter\",\"xaxis\":\"x\",\"yaxis\":\"y\"},{\"hoverinfo\":\"skip\",\"line\":{\"color\":\"#fff\",\"width\":2},\"mode\":\"lines\",\"x\":[12.5,12.5],\"y\":[3.5,6.5],\"type\":\"scatter\",\"xaxis\":\"x\",\"yaxis\":\"y\"},{\"hoverinfo\":\"skip\",\"line\":{\"color\":\"#fff\",\"width\":2},\"mode\":\"lines\",\"x\":[12.5,13.5],\"y\":[3.5,3.5],\"type\":\"scatter\",\"xaxis\":\"x\",\"yaxis\":\"y\"},{\"hoverinfo\":\"skip\",\"line\":{\"color\":\"#fff\",\"width\":2},\"mode\":\"lines\",\"x\":[13.5,13.5],\"y\":[3.5,-0.5],\"type\":\"scatter\",\"xaxis\":\"x\",\"yaxis\":\"y\"},{\"hoverinfo\":\"skip\",\"line\":{\"color\":\"#fff\",\"width\":2},\"mode\":\"lines\",\"x\":[16.5,16.5],\"y\":[5.5,6.5],\"type\":\"scatter\",\"xaxis\":\"x\",\"yaxis\":\"y\"},{\"hoverinfo\":\"skip\",\"line\":{\"color\":\"#fff\",\"width\":2},\"mode\":\"lines\",\"x\":[16.5,17.5],\"y\":[5.5,5.5],\"type\":\"scatter\",\"xaxis\":\"x\",\"yaxis\":\"y\"},{\"hoverinfo\":\"skip\",\"line\":{\"color\":\"#fff\",\"width\":2},\"mode\":\"lines\",\"x\":[17.5,17.5],\"y\":[5.5,-0.5],\"type\":\"scatter\",\"xaxis\":\"x\",\"yaxis\":\"y\"},{\"hoverinfo\":\"skip\",\"line\":{\"color\":\"#fff\",\"width\":2},\"mode\":\"lines\",\"x\":[21.5,21.5],\"y\":[1.5,6.5],\"type\":\"scatter\",\"xaxis\":\"x\",\"yaxis\":\"y\"},{\"hoverinfo\":\"skip\",\"line\":{\"color\":\"#fff\",\"width\":2},\"mode\":\"lines\",\"x\":[21.5,22.5],\"y\":[1.5,1.5],\"type\":\"scatter\",\"xaxis\":\"x\",\"yaxis\":\"y\"},{\"hoverinfo\":\"skip\",\"line\":{\"color\":\"#fff\",\"width\":2},\"mode\":\"lines\",\"x\":[22.5,22.5],\"y\":[1.5,-0.5],\"type\":\"scatter\",\"xaxis\":\"x\",\"yaxis\":\"y\"},{\"hoverinfo\":\"skip\",\"line\":{\"color\":\"#fff\",\"width\":2},\"mode\":\"lines\",\"x\":[25.5,25.5],\"y\":[3.5,6.5],\"type\":\"scatter\",\"xaxis\":\"x\",\"yaxis\":\"y\"},{\"hoverinfo\":\"skip\",\"line\":{\"color\":\"#fff\",\"width\":2},\"mode\":\"lines\",\"x\":[25.5,26.5],\"y\":[3.5,3.5],\"type\":\"scatter\",\"xaxis\":\"x\",\"yaxis\":\"y\"},{\"hoverinfo\":\"skip\",\"line\":{\"color\":\"#fff\",\"width\":2},\"mode\":\"lines\",\"x\":[26.5,26.5],\"y\":[3.5,-0.5],\"type\":\"scatter\",\"xaxis\":\"x\",\"yaxis\":\"y\"},{\"hoverinfo\":\"skip\",\"line\":{\"color\":\"#fff\",\"width\":2},\"mode\":\"lines\",\"x\":[30.5,30.5],\"y\":[-0.5,6.5],\"type\":\"scatter\",\"xaxis\":\"x\",\"yaxis\":\"y\"},{\"hoverinfo\":\"skip\",\"line\":{\"color\":\"#fff\",\"width\":2},\"mode\":\"lines\",\"x\":[34.5,34.5],\"y\":[2.5,6.5],\"type\":\"scatter\",\"xaxis\":\"x\",\"yaxis\":\"y\"},{\"hoverinfo\":\"skip\",\"line\":{\"color\":\"#fff\",\"width\":2},\"mode\":\"lines\",\"x\":[34.5,35.5],\"y\":[2.5,2.5],\"type\":\"scatter\",\"xaxis\":\"x\",\"yaxis\":\"y\"},{\"hoverinfo\":\"skip\",\"line\":{\"color\":\"#fff\",\"width\":2},\"mode\":\"lines\",\"x\":[35.5,35.5],\"y\":[2.5,-0.5],\"type\":\"scatter\",\"xaxis\":\"x\",\"yaxis\":\"y\"},{\"hoverinfo\":\"skip\",\"line\":{\"color\":\"#fff\",\"width\":2},\"mode\":\"lines\",\"x\":[38.5,38.5],\"y\":[4.5,6.5],\"type\":\"scatter\",\"xaxis\":\"x\",\"yaxis\":\"y\"},{\"hoverinfo\":\"skip\",\"line\":{\"color\":\"#fff\",\"width\":2},\"mode\":\"lines\",\"x\":[38.5,39.5],\"y\":[4.5,4.5],\"type\":\"scatter\",\"xaxis\":\"x\",\"yaxis\":\"y\"},{\"hoverinfo\":\"skip\",\"line\":{\"color\":\"#fff\",\"width\":2},\"mode\":\"lines\",\"x\":[39.5,39.5],\"y\":[4.5,-0.5],\"type\":\"scatter\",\"xaxis\":\"x\",\"yaxis\":\"y\"},{\"hoverinfo\":\"skip\",\"line\":{\"color\":\"#fff\",\"width\":2},\"mode\":\"lines\",\"x\":[43.5,43.5],\"y\":[0.5,6.5],\"type\":\"scatter\",\"xaxis\":\"x\",\"yaxis\":\"y\"},{\"hoverinfo\":\"skip\",\"line\":{\"color\":\"#fff\",\"width\":2},\"mode\":\"lines\",\"x\":[43.5,44.5],\"y\":[0.5,0.5],\"type\":\"scatter\",\"xaxis\":\"x\",\"yaxis\":\"y\"},{\"hoverinfo\":\"skip\",\"line\":{\"color\":\"#fff\",\"width\":2},\"mode\":\"lines\",\"x\":[44.5,44.5],\"y\":[0.5,-0.5],\"type\":\"scatter\",\"xaxis\":\"x\",\"yaxis\":\"y\"},{\"hoverinfo\":\"skip\",\"line\":{\"color\":\"#fff\",\"width\":2},\"mode\":\"lines\",\"x\":[47.5,47.5],\"y\":[2.5,6.5],\"type\":\"scatter\",\"xaxis\":\"x\",\"yaxis\":\"y\"},{\"hoverinfo\":\"skip\",\"line\":{\"color\":\"#fff\",\"width\":2},\"mode\":\"lines\",\"x\":[47.5,48.5],\"y\":[2.5,2.5],\"type\":\"scatter\",\"xaxis\":\"x\",\"yaxis\":\"y\"},{\"hoverinfo\":\"skip\",\"line\":{\"color\":\"#fff\",\"width\":2},\"mode\":\"lines\",\"x\":[48.5,48.5],\"y\":[2.5,-0.5],\"type\":\"scatter\",\"xaxis\":\"x\",\"yaxis\":\"y\"}],                        {\"template\":{\"data\":{\"histogram2dcontour\":[{\"type\":\"histogram2dcontour\",\"colorbar\":{\"outlinewidth\":0,\"ticks\":\"\"},\"colorscale\":[[0.0,\"#0d0887\"],[0.1111111111111111,\"#46039f\"],[0.2222222222222222,\"#7201a8\"],[0.3333333333333333,\"#9c179e\"],[0.4444444444444444,\"#bd3786\"],[0.5555555555555556,\"#d8576b\"],[0.6666666666666666,\"#ed7953\"],[0.7777777777777778,\"#fb9f3a\"],[0.8888888888888888,\"#fdca26\"],[1.0,\"#f0f921\"]]}],\"choropleth\":[{\"type\":\"choropleth\",\"colorbar\":{\"outlinewidth\":0,\"ticks\":\"\"}}],\"histogram2d\":[{\"type\":\"histogram2d\",\"colorbar\":{\"outlinewidth\":0,\"ticks\":\"\"},\"colorscale\":[[0.0,\"#0d0887\"],[0.1111111111111111,\"#46039f\"],[0.2222222222222222,\"#7201a8\"],[0.3333333333333333,\"#9c179e\"],[0.4444444444444444,\"#bd3786\"],[0.5555555555555556,\"#d8576b\"],[0.6666666666666666,\"#ed7953\"],[0.7777777777777778,\"#fb9f3a\"],[0.8888888888888888,\"#fdca26\"],[1.0,\"#f0f921\"]]}],\"heatmap\":[{\"type\":\"heatmap\",\"colorbar\":{\"outlinewidth\":0,\"ticks\":\"\"},\"colorscale\":[[0.0,\"#0d0887\"],[0.1111111111111111,\"#46039f\"],[0.2222222222222222,\"#7201a8\"],[0.3333333333333333,\"#9c179e\"],[0.4444444444444444,\"#bd3786\"],[0.5555555555555556,\"#d8576b\"],[0.6666666666666666,\"#ed7953\"],[0.7777777777777778,\"#fb9f3a\"],[0.8888888888888888,\"#fdca26\"],[1.0,\"#f0f921\"]]}],\"heatmapgl\":[{\"type\":\"heatmapgl\",\"colorbar\":{\"outlinewidth\":0,\"ticks\":\"\"},\"colorscale\":[[0.0,\"#0d0887\"],[0.1111111111111111,\"#46039f\"],[0.2222222222222222,\"#7201a8\"],[0.3333333333333333,\"#9c179e\"],[0.4444444444444444,\"#bd3786\"],[0.5555555555555556,\"#d8576b\"],[0.6666666666666666,\"#ed7953\"],[0.7777777777777778,\"#fb9f3a\"],[0.8888888888888888,\"#fdca26\"],[1.0,\"#f0f921\"]]}],\"contourcarpet\":[{\"type\":\"contourcarpet\",\"colorbar\":{\"outlinewidth\":0,\"ticks\":\"\"}}],\"contour\":[{\"type\":\"contour\",\"colorbar\":{\"outlinewidth\":0,\"ticks\":\"\"},\"colorscale\":[[0.0,\"#0d0887\"],[0.1111111111111111,\"#46039f\"],[0.2222222222222222,\"#7201a8\"],[0.3333333333333333,\"#9c179e\"],[0.4444444444444444,\"#bd3786\"],[0.5555555555555556,\"#d8576b\"],[0.6666666666666666,\"#ed7953\"],[0.7777777777777778,\"#fb9f3a\"],[0.8888888888888888,\"#fdca26\"],[1.0,\"#f0f921\"]]}],\"surface\":[{\"type\":\"surface\",\"colorbar\":{\"outlinewidth\":0,\"ticks\":\"\"},\"colorscale\":[[0.0,\"#0d0887\"],[0.1111111111111111,\"#46039f\"],[0.2222222222222222,\"#7201a8\"],[0.3333333333333333,\"#9c179e\"],[0.4444444444444444,\"#bd3786\"],[0.5555555555555556,\"#d8576b\"],[0.6666666666666666,\"#ed7953\"],[0.7777777777777778,\"#fb9f3a\"],[0.8888888888888888,\"#fdca26\"],[1.0,\"#f0f921\"]]}],\"mesh3d\":[{\"type\":\"mesh3d\",\"colorbar\":{\"outlinewidth\":0,\"ticks\":\"\"}}],\"scatter\":[{\"fillpattern\":{\"fillmode\":\"overlay\",\"size\":10,\"solidity\":0.2},\"type\":\"scatter\"}],\"parcoords\":[{\"type\":\"parcoords\",\"line\":{\"colorbar\":{\"outlinewidth\":0,\"ticks\":\"\"}}}],\"scatterpolargl\":[{\"type\":\"scatterpolargl\",\"marker\":{\"colorbar\":{\"outlinewidth\":0,\"ticks\":\"\"}}}],\"bar\":[{\"error_x\":{\"color\":\"#2a3f5f\"},\"error_y\":{\"color\":\"#2a3f5f\"},\"marker\":{\"line\":{\"color\":\"#E5ECF6\",\"width\":0.5},\"pattern\":{\"fillmode\":\"overlay\",\"size\":10,\"solidity\":0.2}},\"type\":\"bar\"}],\"scattergeo\":[{\"type\":\"scattergeo\",\"marker\":{\"colorbar\":{\"outlinewidth\":0,\"ticks\":\"\"}}}],\"scatterpolar\":[{\"type\":\"scatterpolar\",\"marker\":{\"colorbar\":{\"outlinewidth\":0,\"ticks\":\"\"}}}],\"histogram\":[{\"marker\":{\"pattern\":{\"fillmode\":\"overlay\",\"size\":10,\"solidity\":0.2}},\"type\":\"histogram\"}],\"scattergl\":[{\"type\":\"scattergl\",\"marker\":{\"colorbar\":{\"outlinewidth\":0,\"ticks\":\"\"}}}],\"scatter3d\":[{\"type\":\"scatter3d\",\"line\":{\"colorbar\":{\"outlinewidth\":0,\"ticks\":\"\"}},\"marker\":{\"colorbar\":{\"outlinewidth\":0,\"ticks\":\"\"}}}],\"scattermapbox\":[{\"type\":\"scattermapbox\",\"marker\":{\"colorbar\":{\"outlinewidth\":0,\"ticks\":\"\"}}}],\"scatterternary\":[{\"type\":\"scatterternary\",\"marker\":{\"colorbar\":{\"outlinewidth\":0,\"ticks\":\"\"}}}],\"scattercarpet\":[{\"type\":\"scattercarpet\",\"marker\":{\"colorbar\":{\"outlinewidth\":0,\"ticks\":\"\"}}}],\"carpet\":[{\"aaxis\":{\"endlinecolor\":\"#2a3f5f\",\"gridcolor\":\"white\",\"linecolor\":\"white\",\"minorgridcolor\":\"white\",\"startlinecolor\":\"#2a3f5f\"},\"baxis\":{\"endlinecolor\":\"#2a3f5f\",\"gridcolor\":\"white\",\"linecolor\":\"white\",\"minorgridcolor\":\"white\",\"startlinecolor\":\"#2a3f5f\"},\"type\":\"carpet\"}],\"table\":[{\"cells\":{\"fill\":{\"color\":\"#EBF0F8\"},\"line\":{\"color\":\"white\"}},\"header\":{\"fill\":{\"color\":\"#C8D4E3\"},\"line\":{\"color\":\"white\"}},\"type\":\"table\"}],\"barpolar\":[{\"marker\":{\"line\":{\"color\":\"#E5ECF6\",\"width\":0.5},\"pattern\":{\"fillmode\":\"overlay\",\"size\":10,\"solidity\":0.2}},\"type\":\"barpolar\"}],\"pie\":[{\"automargin\":true,\"type\":\"pie\"}]},\"layout\":{\"autotypenumbers\":\"strict\",\"colorway\":[\"#636efa\",\"#EF553B\",\"#00cc96\",\"#ab63fa\",\"#FFA15A\",\"#19d3f3\",\"#FF6692\",\"#B6E880\",\"#FF97FF\",\"#FECB52\"],\"font\":{\"color\":\"#2a3f5f\"},\"hovermode\":\"closest\",\"hoverlabel\":{\"align\":\"left\"},\"paper_bgcolor\":\"white\",\"plot_bgcolor\":\"#E5ECF6\",\"polar\":{\"bgcolor\":\"#E5ECF6\",\"angularaxis\":{\"gridcolor\":\"white\",\"linecolor\":\"white\",\"ticks\":\"\"},\"radialaxis\":{\"gridcolor\":\"white\",\"linecolor\":\"white\",\"ticks\":\"\"}},\"ternary\":{\"bgcolor\":\"#E5ECF6\",\"aaxis\":{\"gridcolor\":\"white\",\"linecolor\":\"white\",\"ticks\":\"\"},\"baxis\":{\"gridcolor\":\"white\",\"linecolor\":\"white\",\"ticks\":\"\"},\"caxis\":{\"gridcolor\":\"white\",\"linecolor\":\"white\",\"ticks\":\"\"}},\"coloraxis\":{\"colorbar\":{\"outlinewidth\":0,\"ticks\":\"\"}},\"colorscale\":{\"sequential\":[[0.0,\"#0d0887\"],[0.1111111111111111,\"#46039f\"],[0.2222222222222222,\"#7201a8\"],[0.3333333333333333,\"#9c179e\"],[0.4444444444444444,\"#bd3786\"],[0.5555555555555556,\"#d8576b\"],[0.6666666666666666,\"#ed7953\"],[0.7777777777777778,\"#fb9f3a\"],[0.8888888888888888,\"#fdca26\"],[1.0,\"#f0f921\"]],\"sequentialminus\":[[0.0,\"#0d0887\"],[0.1111111111111111,\"#46039f\"],[0.2222222222222222,\"#7201a8\"],[0.3333333333333333,\"#9c179e\"],[0.4444444444444444,\"#bd3786\"],[0.5555555555555556,\"#d8576b\"],[0.6666666666666666,\"#ed7953\"],[0.7777777777777778,\"#fb9f3a\"],[0.8888888888888888,\"#fdca26\"],[1.0,\"#f0f921\"]],\"diverging\":[[0,\"#8e0152\"],[0.1,\"#c51b7d\"],[0.2,\"#de77ae\"],[0.3,\"#f1b6da\"],[0.4,\"#fde0ef\"],[0.5,\"#f7f7f7\"],[0.6,\"#e6f5d0\"],[0.7,\"#b8e186\"],[0.8,\"#7fbc41\"],[0.9,\"#4d9221\"],[1,\"#276419\"]]},\"xaxis\":{\"gridcolor\":\"white\",\"linecolor\":\"white\",\"ticks\":\"\",\"title\":{\"standoff\":15},\"zerolinecolor\":\"white\",\"automargin\":true,\"zerolinewidth\":2},\"yaxis\":{\"gridcolor\":\"white\",\"linecolor\":\"white\",\"ticks\":\"\",\"title\":{\"standoff\":15},\"zerolinecolor\":\"white\",\"automargin\":true,\"zerolinewidth\":2},\"scene\":{\"xaxis\":{\"backgroundcolor\":\"#E5ECF6\",\"gridcolor\":\"white\",\"linecolor\":\"white\",\"showbackground\":true,\"ticks\":\"\",\"zerolinecolor\":\"white\",\"gridwidth\":2},\"yaxis\":{\"backgroundcolor\":\"#E5ECF6\",\"gridcolor\":\"white\",\"linecolor\":\"white\",\"showbackground\":true,\"ticks\":\"\",\"zerolinecolor\":\"white\",\"gridwidth\":2},\"zaxis\":{\"backgroundcolor\":\"#E5ECF6\",\"gridcolor\":\"white\",\"linecolor\":\"white\",\"showbackground\":true,\"ticks\":\"\",\"zerolinecolor\":\"white\",\"gridwidth\":2}},\"shapedefaults\":{\"line\":{\"color\":\"#2a3f5f\"}},\"annotationdefaults\":{\"arrowcolor\":\"#2a3f5f\",\"arrowhead\":0,\"arrowwidth\":1},\"geo\":{\"bgcolor\":\"white\",\"landcolor\":\"#E5ECF6\",\"subunitcolor\":\"white\",\"showland\":true,\"showlakes\":true,\"lakecolor\":\"white\"},\"title\":{\"x\":0.05},\"mapbox\":{\"style\":\"light\"}}},\"xaxis\":{\"anchor\":\"y\",\"domain\":[0.0,1.0],\"showgrid\":false,\"showline\":false,\"tickmode\":\"array\",\"ticktext\":[\"January\",\"February\",\"March\",\"April\",\"May\",\"June\",\"July\",\"August\",\"September\",\"October\",\"November\",\"December\"],\"tickvals\":[2.2857142857142856,6.285714285714286,10.714285714285714,15.0,19.428571428571427,23.714285714285715,28.142857142857142,32.57142857142857,36.857142857142854,41.285714285714285,45.57142857142857,50.0],\"zeroline\":false},\"yaxis\":{\"anchor\":\"x\",\"domain\":[0.0,1.0],\"autorange\":\"reversed\",\"showgrid\":false,\"showline\":false,\"tickmode\":\"array\",\"ticktext\":[\"Mon\",\"Tue\",\"Wed\",\"Thu\",\"Fri\",\"Sat\",\"Sun\"],\"tickvals\":[0,1,2,3,4,5,6],\"zeroline\":false},\"annotations\":[{\"font\":{\"size\":16},\"showarrow\":false,\"text\":\"2022\",\"x\":0.5,\"xanchor\":\"center\",\"xref\":\"paper\",\"y\":1.0,\"yanchor\":\"bottom\",\"yref\":\"paper\"}],\"font\":{\"color\":\"#9e9e9e\",\"size\":10},\"margin\":{\"b\":20,\"t\":20},\"title\":{\"text\":\"\"},\"plot_bgcolor\":\"#fff\",\"showlegend\":false,\"height\":150},                        {\"responsive\": true}                    ).then(function(){\n",
       "                            \n",
       "var gd = document.getElementById('c54f0d05-4c27-4ee6-90a1-df725c14870d');\n",
       "var x = new MutationObserver(function (mutations, observer) {{\n",
       "        var display = window.getComputedStyle(gd).display;\n",
       "        if (!display || display === 'none') {{\n",
       "            console.log([gd, 'removed!']);\n",
       "            Plotly.purge(gd);\n",
       "            observer.disconnect();\n",
       "        }}\n",
       "}});\n",
       "\n",
       "// Listen for the removal of the full notebook cells\n",
       "var notebookContainer = gd.closest('#notebook-container');\n",
       "if (notebookContainer) {{\n",
       "    x.observe(notebookContainer, {childList: true});\n",
       "}}\n",
       "\n",
       "// Listen for the clearing of the current output cell\n",
       "var outputEl = gd.closest('.output');\n",
       "if (outputEl) {{\n",
       "    x.observe(outputEl, {childList: true});\n",
       "}}\n",
       "\n",
       "                        })                };                });            </script>        </div>"
      ]
     },
     "metadata": {},
     "output_type": "display_data"
    }
   ],
   "source": [
    "# process the DataFrame to plot\n",
    "\n",
    "from plotly_calplot import calplot\n",
    "\n",
    "cal_start_date = \"2022-01-01\"\n",
    "cal_end_date = \"2022-12-31\"\n",
    "\n",
    "path = r'/Users/shi_zhongming/Dropbox/SG data/data_gov/place/sorted/usecase/cea/simulations/BIA_clementi/outputs/data/potentials/agriculture/plot/B1000_BIA_visual_AmaranthRed.csv'\n",
    "df = pd.read_csv(path).iloc[3:,[38]]\n",
    "\n",
    "df_to_visual = pd.DataFrame({\n",
    "    \"ds\": pd.date_range(cal_start_date, cal_end_date),\n",
    "    \"value\": df['37'].values.astype(float)\n",
    "})\n",
    "\n",
    "print(df_to_visual)\n",
    "\n",
    "# plot the calendar\n",
    "fig = calplot(\n",
    "    df_to_visual,\n",
    "    x=\"ds\",\n",
    "    y=\"value\",\n",
    "    years_title=True,\n",
    "    colorscale=\"reds\",\n",
    "    dark_theme=False,\n",
    "    gap=1,\n",
    "    name=\"Data\",\n",
    "    month_lines_width=2, \n",
    "    month_lines_color=\"#fff\",\n",
    ")\n",
    "fig.show()"
   ]
  },
  {
   "cell_type": "code",
   "execution_count": 46,
   "id": "01ad4363",
   "metadata": {},
   "outputs": [
    {
     "data": {
      "text/plain": [
       "'https://plotly.com/~dutszm/8/'"
      ]
     },
     "execution_count": 46,
     "metadata": {},
     "output_type": "execute_result"
    }
   ],
   "source": [
    "# Push the visualisation to plotly account\n",
    "\n",
    "import chart_studio.plotly as py\n",
    "py.plot(fig, filename = 'test', auto_open=True)"
   ]
  },
  {
   "cell_type": "code",
   "execution_count": 10,
   "id": "8b798ce6",
   "metadata": {},
   "outputs": [
    {
     "data": {
      "text/plain": [
       "(<Figure size 936x936 with 1 Axes>,\n",
       " array([<AxesSubplot:ylabel='2022'>], dtype=object))"
      ]
     },
     "execution_count": 10,
     "metadata": {},
     "output_type": "execute_result"
    },
    {
     "data": {
      "image/png": "[encoded data removed]",
      "text/plain": [
       "<Figure size 936x936 with 1 Axes>"
      ]
     },
     "metadata": {
      "needs_background": "light"
     },
     "output_type": "display_data"
    }
   ],
   "source": [
    "path = r'/Users/shi_zhongming/Dropbox/SG data/data_gov/place/sorted/usecase/cea/simulations/BIA_clementi/outputs/data/potentials/agriculture/plot/B1000_BIA_visual_AmaranthRed.csv'\n",
    "df = pd.read_csv(path)\n",
    "df_to_visual = df.iloc[3:,[1]]\n",
    "\n",
    "days = pd.date_range('1/1/2022', periods=365, freq='D')\n",
    "events = pd.Series(df_to_visual['0'].values.astype(float), index=days)\n",
    "calmap.calendarplot(events, monthticks=True, daylabels='MTWTFSS', dayticks=True,\n",
    "                     cmap='PuBuGn', linewidth=2,\n",
    "                    fig_kws=dict(figsize=(13, 13)))\n"
   ]
  },
  {
   "cell_type": "code",
   "execution_count": 11,
   "id": "05e20cf0",
   "metadata": {},
   "outputs": [
    {
     "data": {
      "text/plain": [
       "(<Figure size 936x936 with 1 Axes>,\n",
       " array([<AxesSubplot:ylabel='2022'>], dtype=object))"
      ]
     },
     "execution_count": 11,
     "metadata": {},
     "output_type": "execute_result"
    },
    {
     "data": {
      "image/png": "[encoded data removed]",
      "text/plain": [
       "<Figure size 936x936 with 1 Axes>"
      ]
     },
     "metadata": {
      "needs_background": "light"
     },
     "output_type": "display_data"
    }
   ],
   "source": [
    "path = r'/Users/shi_zhongming/Dropbox/SG data/data_gov/place/sorted/usecase/cea/simulations/BIA_clementi/outputs/data/potentials/agriculture/plot/B1000_BIA_visual_AmaranthRed.csv'\n",
    "df = pd.read_csv(path)\n",
    "df_to_visual = df.iloc[3:,[13]]\n",
    "days = pd.date_range('1/1/2022', periods=365, freq='D')\n",
    "events = pd.Series(df_to_visual['12'].values.astype(float), index=days)\n",
    "calmap.calendarplot(events, monthticks=True, daylabels='MTWTFSS', dayticks=True,\n",
    "                     cmap='PuBuGn', linewidth=2,\n",
    "                    fig_kws=dict(figsize=(13, 13)))"
   ]
  },
  {
   "cell_type": "code",
   "execution_count": 7,
   "id": "754d2e5d",
   "metadata": {},
   "outputs": [
    {
     "data": {
      "text/plain": [
       "(<Figure size 936x936 with 1 Axes>,\n",
       " array([<AxesSubplot:ylabel='2022'>], dtype=object))"
      ]
     },
     "execution_count": 7,
     "metadata": {},
     "output_type": "execute_result"
    },
    {
     "data": {
      "image/png": "[encoded data removed]",
      "text/plain": [
       "<Figure size 936x936 with 1 Axes>"
      ]
     },
     "metadata": {
      "needs_background": "light"
     },
     "output_type": "display_data"
    }
   ],
   "source": [
    "path = r'/Users/shi_zhongming/Dropbox/SG data/data_gov/place/sorted/usecase/cea/simulations/BIA_clementi/outputs/data/potentials/agriculture/plot/B1000_BIA_visual_AmaranthRed.csv'\n",
    "df = pd.read_csv(path)\n",
    "df_to_visual = df.iloc[3:,[25]]\n",
    "\n",
    "days = pd.date_range('1/1/2022', periods=365, freq='D')\n",
    "events = pd.Series(df_to_visual['24'].values.astype(float), index=days)\n",
    "calmap.calendarplot(events, monthticks=True, daylabels='MTWTFSS', dayticks=True,\n",
    "                     linewidth=2,\n",
    "                    fig_kws=dict(figsize=(13, 13)))"
   ]
  },
  {
   "cell_type": "code",
   "execution_count": 12,
   "id": "06e1e4e2",
   "metadata": {},
   "outputs": [
    {
     "data": {
      "text/plain": [
       "(<Figure size 936x936 with 1 Axes>,\n",
       " array([<AxesSubplot:ylabel='2022'>], dtype=object))"
      ]
     },
     "execution_count": 12,
     "metadata": {},
     "output_type": "execute_result"
    },
    {
     "data": {
      "image/png": "[encoded data removed]",
      "text/plain": [
       "<Figure size 936x936 with 1 Axes>"
      ]
     },
     "metadata": {
      "needs_background": "light"
     },
     "output_type": "display_data"
    }
   ],
   "source": [
    "path = r'/Users/shi_zhongming/Dropbox/SG data/data_gov/place/sorted/usecase/cea/simulations/BIA_clementi/outputs/data/potentials/agriculture/plot/B1000_BIA_visual_AmaranthRed.csv'\n",
    "df = pd.read_csv(path)\n",
    "df_to_visual = df.iloc[3:,[37]]\n",
    "\n",
    "days = pd.date_range('1/1/2022', periods=365, freq='D')\n",
    "events = pd.Series(df_to_visual['36'].values.astype(float), index=days)\n",
    "calmap.calendarplot(events, monthticks=True, daylabels='MTWTFSS', dayticks=True,\n",
    "                     cmap='PuBuGn', linewidth=2,\n",
    "                    fig_kws=dict(figsize=(13, 13)))"
   ]
  },
  {
   "cell_type": "code",
   "execution_count": 66,
   "id": "c8120cef",
   "metadata": {},
   "outputs": [
    {
     "data": {
      "text/plain": [
       "(<Figure size 936x936 with 1 Axes>,\n",
       " array([<AxesSubplot:ylabel='2022'>], dtype=object))"
      ]
     },
     "execution_count": 66,
     "metadata": {},
     "output_type": "execute_result"
    },
    {
     "data": {
      "image/png": "[encoded data removed]",
      "text/plain": [
       "<Figure size 936x936 with 1 Axes>"
      ]
     },
     "metadata": {
      "needs_background": "light"
     },
     "output_type": "display_data"
    }
   ],
   "source": [
    "path = r'/Users/shi_zhongming/Dropbox/SG data/data_gov/place/sorted/usecase/cea/simulations/BIA_clementi/outputs/data/potentials/agriculture/plot/B1000_BIA_visual_AmaranthRed.csv'\n",
    "df = pd.read_csv(path)\n",
    "df_to_visual = df.iloc[3:,[38]]\n",
    "\n",
    "days = pd.date_range('1/1/2022', periods=365, freq='D')\n",
    "events = pd.Series(df_to_visual['37'].values.astype(float), index=days)\n",
    "calmap.calendarplot(events, monthticks=True, daylabels='MTWTFSS', dayticks=True,\n",
    "                     cmap='PuBuGn', linewidth=2,\n",
    "                    fig_kws=dict(figsize=(13, 13)))"
   ]
  },
  {
   "cell_type": "code",
   "execution_count": 13,
   "id": "c0d8216c",
   "metadata": {},
   "outputs": [
    {
     "ename": "SyntaxError",
     "evalue": "invalid syntax (1387249117.py, line 1)",
     "output_type": "error",
     "traceback": [
      "\u001b[0;36m  Input \u001b[0;32mIn [13]\u001b[0;36m\u001b[0m\n\u001b[0;31m    jupyter notebook --generate-config\u001b[0m\n\u001b[0m            ^\u001b[0m\n\u001b[0;31mSyntaxError\u001b[0m\u001b[0;31m:\u001b[0m invalid syntax\n"
     ]
    }
   ],
   "source": [
    "jupyter notebook --generate-config"
   ]
  },
  {
   "cell_type": "code",
   "execution_count": null,
   "id": "b7c5b03b",
   "metadata": {},
   "outputs": [],
   "source": []
  }
 ],
 "metadata": {
  "kernelspec": {
   "display_name": "Python 3 (ipykernel)",
   "language": "python",
   "name": "python3"
  },
  "language_info": {
   "codemirror_mode": {
    "name": "ipython",
    "version": 3
   },
   "file_extension": ".py",
   "mimetype": "text/x-python",
   "name": "python",
   "nbconvert_exporter": "python",
   "pygments_lexer": "ipython3",
   "version": "3.8.10"
  }
 },
 "nbformat": 4,
 "nbformat_minor": 5
}
