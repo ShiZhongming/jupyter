{
 "cells": [
  {
   "cell_type": "code",
   "execution_count": 162,
   "id": "5bc9abfe",
   "metadata": {},
   "outputs": [
    {
     "name": "stdout",
     "output_type": "stream",
     "text": [
      "Requirement already satisfied: pandas_datareader in /opt/miniconda3/lib/python3.8/site-packages (0.10.0)\n",
      "Requirement already satisfied: pandas>=0.23 in /opt/miniconda3/lib/python3.8/site-packages (from pandas_datareader) (1.4.3)\n",
      "Requirement already satisfied: requests>=2.19.0 in /opt/miniconda3/lib/python3.8/site-packages (from pandas_datareader) (2.25.1)\n",
      "Requirement already satisfied: lxml in /opt/miniconda3/lib/python3.8/site-packages (from pandas_datareader) (4.9.1)\n",
      "Requirement already satisfied: numpy>=1.18.5 in /opt/miniconda3/lib/python3.8/site-packages (from pandas>=0.23->pandas_datareader) (1.23.2)\n",
      "Requirement already satisfied: pytz>=2020.1 in /opt/miniconda3/lib/python3.8/site-packages (from pandas>=0.23->pandas_datareader) (2022.2.1)\n",
      "Requirement already satisfied: python-dateutil>=2.8.1 in /opt/miniconda3/lib/python3.8/site-packages (from pandas>=0.23->pandas_datareader) (2.8.2)\n",
      "Requirement already satisfied: six>=1.5 in /opt/miniconda3/lib/python3.8/site-packages (from python-dateutil>=2.8.1->pandas>=0.23->pandas_datareader) (1.16.0)\n",
      "Requirement already satisfied: chardet<5,>=3.0.2 in /opt/miniconda3/lib/python3.8/site-packages (from requests>=2.19.0->pandas_datareader) (4.0.0)\n",
      "Requirement already satisfied: idna<3,>=2.5 in /opt/miniconda3/lib/python3.8/site-packages (from requests>=2.19.0->pandas_datareader) (2.10)\n",
      "Requirement already satisfied: certifi>=2017.4.17 in /opt/miniconda3/lib/python3.8/site-packages (from requests>=2.19.0->pandas_datareader) (2021.5.30)\n",
      "Requirement already satisfied: urllib3<1.27,>=1.21.1 in /opt/miniconda3/lib/python3.8/site-packages (from requests>=2.19.0->pandas_datareader) (1.26.6)\n",
      "Note: you may need to restart the kernel to use updated packages.\n"
     ]
    }
   ],
   "source": [
    "pip install pandas_datareader"
   ]
  },
  {
   "cell_type": "code",
   "execution_count": 163,
   "id": "1ec4e2b6",
   "metadata": {},
   "outputs": [
    {
     "name": "stdout",
     "output_type": "stream",
     "text": [
      "Requirement already satisfied: calplot in /opt/miniconda3/lib/python3.8/site-packages (0.1.7.4)\n",
      "Requirement already satisfied: matplotlib in /opt/miniconda3/lib/python3.8/site-packages (from calplot) (3.5.3)\n",
      "Requirement already satisfied: pandas>=1 in /opt/miniconda3/lib/python3.8/site-packages (from calplot) (1.4.3)\n",
      "Requirement already satisfied: numpy in /opt/miniconda3/lib/python3.8/site-packages (from calplot) (1.23.2)\n",
      "Requirement already satisfied: pytz>=2020.1 in /opt/miniconda3/lib/python3.8/site-packages (from pandas>=1->calplot) (2022.2.1)\n",
      "Requirement already satisfied: python-dateutil>=2.8.1 in /opt/miniconda3/lib/python3.8/site-packages (from pandas>=1->calplot) (2.8.2)\n",
      "Requirement already satisfied: six>=1.5 in /opt/miniconda3/lib/python3.8/site-packages (from python-dateutil>=2.8.1->pandas>=1->calplot) (1.16.0)\n",
      "Requirement already satisfied: fonttools>=4.22.0 in /opt/miniconda3/lib/python3.8/site-packages (from matplotlib->calplot) (4.37.1)\n",
      "Requirement already satisfied: pillow>=6.2.0 in /opt/miniconda3/lib/python3.8/site-packages (from matplotlib->calplot) (9.2.0)\n",
      "Requirement already satisfied: pyparsing>=2.2.1 in /opt/miniconda3/lib/python3.8/site-packages (from matplotlib->calplot) (3.0.8)\n",
      "Requirement already satisfied: packaging>=20.0 in /opt/miniconda3/lib/python3.8/site-packages (from matplotlib->calplot) (21.3)\n",
      "Requirement already satisfied: cycler>=0.10 in /opt/miniconda3/lib/python3.8/site-packages (from matplotlib->calplot) (0.11.0)\n",
      "Requirement already satisfied: kiwisolver>=1.0.1 in /opt/miniconda3/lib/python3.8/site-packages (from matplotlib->calplot) (1.4.4)\n",
      "Note: you may need to restart the kernel to use updated packages.\n"
     ]
    }
   ],
   "source": [
    "pip install calplot"
   ]
  },
  {
   "cell_type": "code",
   "execution_count": 189,
   "id": "2151d691",
   "metadata": {},
   "outputs": [
    {
     "name": "stdout",
     "output_type": "stream",
     "text": [
      "Collecting dash\n",
      "  Downloading dash-2.6.2-py3-none-any.whl (9.8 MB)\n",
      "\u001b[K     |████████████████████████████████| 9.8 MB 2.7 MB/s eta 0:00:01\n",
      "\u001b[?25hCollecting Flask>=1.0.4\n",
      "  Downloading Flask-2.2.2-py3-none-any.whl (101 kB)\n",
      "\u001b[K     |████████████████████████████████| 101 kB 8.1 MB/s ta 0:00:011\n",
      "\u001b[?25hCollecting dash-table==5.0.0\n",
      "  Downloading dash_table-5.0.0-py3-none-any.whl (3.9 kB)\n",
      "Requirement already satisfied: plotly>=5.0.0 in /opt/miniconda3/lib/python3.8/site-packages (from dash) (5.10.0)\n",
      "Collecting flask-compress\n",
      "  Downloading Flask_Compress-1.13-py3-none-any.whl (7.9 kB)\n",
      "Collecting dash-html-components==2.0.0\n",
      "  Downloading dash_html_components-2.0.0-py3-none-any.whl (4.1 kB)\n",
      "Collecting dash-core-components==2.0.0\n",
      "  Downloading dash_core_components-2.0.0-py3-none-any.whl (3.8 kB)\n",
      "Requirement already satisfied: Jinja2>=3.0 in /opt/miniconda3/lib/python3.8/site-packages (from Flask>=1.0.4->dash) (3.1.1)\n",
      "Collecting itsdangerous>=2.0\n",
      "  Downloading itsdangerous-2.1.2-py3-none-any.whl (15 kB)\n",
      "Collecting importlib-metadata>=3.6.0\n",
      "  Downloading importlib_metadata-4.12.0-py3-none-any.whl (21 kB)\n",
      "Collecting Werkzeug>=2.2.2\n",
      "  Downloading Werkzeug-2.2.2-py3-none-any.whl (232 kB)\n",
      "\u001b[K     |████████████████████████████████| 232 kB 39.9 MB/s eta 0:00:01\n",
      "\u001b[?25hCollecting click>=8.0\n",
      "  Downloading click-8.1.3-py3-none-any.whl (96 kB)\n",
      "\u001b[K     |████████████████████████████████| 96 kB 14.2 MB/s eta 0:00:01\n",
      "\u001b[?25hRequirement already satisfied: zipp>=0.5 in /opt/miniconda3/lib/python3.8/site-packages (from importlib-metadata>=3.6.0->Flask>=1.0.4->dash) (3.8.0)\n",
      "Requirement already satisfied: MarkupSafe>=2.0 in /opt/miniconda3/lib/python3.8/site-packages (from Jinja2>=3.0->Flask>=1.0.4->dash) (2.1.1)\n",
      "Requirement already satisfied: tenacity>=6.2.0 in /opt/miniconda3/lib/python3.8/site-packages (from plotly>=5.0.0->dash) (8.1.0)\n",
      "Collecting brotli\n",
      "  Downloading Brotli-1.0.9-cp38-cp38-macosx_10_9_x86_64.whl (421 kB)\n",
      "\u001b[K     |████████████████████████████████| 421 kB 65.7 MB/s eta 0:00:01\n",
      "\u001b[?25hInstalling collected packages: Werkzeug, itsdangerous, importlib-metadata, click, Flask, brotli, flask-compress, dash-table, dash-html-components, dash-core-components, dash\n",
      "Successfully installed Flask-2.2.2 Werkzeug-2.2.2 brotli-1.0.9 click-8.1.3 dash-2.6.2 dash-core-components-2.0.0 dash-html-components-2.0.0 dash-table-5.0.0 flask-compress-1.13 importlib-metadata-4.12.0 itsdangerous-2.1.2\n",
      "Note: you may need to restart the kernel to use updated packages.\n"
     ]
    }
   ],
   "source": [
    "pip install dash"
   ]
  },
  {
   "cell_type": "code",
   "execution_count": 190,
   "id": "233f6a6e",
   "metadata": {},
   "outputs": [
    {
     "name": "stdout",
     "output_type": "stream",
     "text": [
      "Collecting jupyter-dash\n",
      "  Downloading jupyter_dash-0.4.2-py3-none-any.whl (23 kB)\n",
      "Requirement already satisfied: retrying in /opt/miniconda3/lib/python3.8/site-packages (from jupyter-dash) (1.3.3)\n",
      "Collecting ansi2html\n",
      "  Downloading ansi2html-1.8.0-py3-none-any.whl (16 kB)\n",
      "Requirement already satisfied: flask in /opt/miniconda3/lib/python3.8/site-packages (from jupyter-dash) (2.2.2)\n",
      "Requirement already satisfied: nest-asyncio in /opt/miniconda3/lib/python3.8/site-packages (from jupyter-dash) (1.5.5)\n",
      "Requirement already satisfied: ipython in /opt/miniconda3/lib/python3.8/site-packages (from jupyter-dash) (8.2.0)\n",
      "Requirement already satisfied: requests in /opt/miniconda3/lib/python3.8/site-packages (from jupyter-dash) (2.25.1)\n",
      "Requirement already satisfied: dash in /opt/miniconda3/lib/python3.8/site-packages (from jupyter-dash) (2.6.2)\n",
      "Requirement already satisfied: ipykernel in /opt/miniconda3/lib/python3.8/site-packages (from jupyter-dash) (6.13.0)\n",
      "Requirement already satisfied: plotly>=5.0.0 in /opt/miniconda3/lib/python3.8/site-packages (from dash->jupyter-dash) (5.10.0)\n",
      "Requirement already satisfied: dash-table==5.0.0 in /opt/miniconda3/lib/python3.8/site-packages (from dash->jupyter-dash) (5.0.0)\n",
      "Requirement already satisfied: dash-html-components==2.0.0 in /opt/miniconda3/lib/python3.8/site-packages (from dash->jupyter-dash) (2.0.0)\n",
      "Requirement already satisfied: flask-compress in /opt/miniconda3/lib/python3.8/site-packages (from dash->jupyter-dash) (1.13)\n",
      "Requirement already satisfied: dash-core-components==2.0.0 in /opt/miniconda3/lib/python3.8/site-packages (from dash->jupyter-dash) (2.0.0)\n",
      "Requirement already satisfied: Werkzeug>=2.2.2 in /opt/miniconda3/lib/python3.8/site-packages (from flask->jupyter-dash) (2.2.2)\n",
      "Requirement already satisfied: importlib-metadata>=3.6.0 in /opt/miniconda3/lib/python3.8/site-packages (from flask->jupyter-dash) (4.12.0)\n",
      "Requirement already satisfied: click>=8.0 in /opt/miniconda3/lib/python3.8/site-packages (from flask->jupyter-dash) (8.1.3)\n",
      "Requirement already satisfied: itsdangerous>=2.0 in /opt/miniconda3/lib/python3.8/site-packages (from flask->jupyter-dash) (2.1.2)\n",
      "Requirement already satisfied: Jinja2>=3.0 in /opt/miniconda3/lib/python3.8/site-packages (from flask->jupyter-dash) (3.1.1)\n",
      "Requirement already satisfied: zipp>=0.5 in /opt/miniconda3/lib/python3.8/site-packages (from importlib-metadata>=3.6.0->flask->jupyter-dash) (3.8.0)\n",
      "Requirement already satisfied: MarkupSafe>=2.0 in /opt/miniconda3/lib/python3.8/site-packages (from Jinja2>=3.0->flask->jupyter-dash) (2.1.1)\n",
      "Requirement already satisfied: tenacity>=6.2.0 in /opt/miniconda3/lib/python3.8/site-packages (from plotly>=5.0.0->dash->jupyter-dash) (8.1.0)\n",
      "Requirement already satisfied: brotli in /opt/miniconda3/lib/python3.8/site-packages (from flask-compress->dash->jupyter-dash) (1.0.9)\n",
      "Requirement already satisfied: debugpy>=1.0 in /opt/miniconda3/lib/python3.8/site-packages (from ipykernel->jupyter-dash) (1.6.0)\n",
      "Requirement already satisfied: psutil in /opt/miniconda3/lib/python3.8/site-packages (from ipykernel->jupyter-dash) (5.9.0)\n",
      "Requirement already satisfied: packaging in /opt/miniconda3/lib/python3.8/site-packages (from ipykernel->jupyter-dash) (21.3)\n",
      "Requirement already satisfied: matplotlib-inline>=0.1 in /opt/miniconda3/lib/python3.8/site-packages (from ipykernel->jupyter-dash) (0.1.3)\n",
      "Requirement already satisfied: appnope in /opt/miniconda3/lib/python3.8/site-packages (from ipykernel->jupyter-dash) (0.1.3)\n",
      "Requirement already satisfied: jupyter-client>=6.1.12 in /opt/miniconda3/lib/python3.8/site-packages (from ipykernel->jupyter-dash) (7.2.2)\n",
      "Requirement already satisfied: traitlets>=5.1.0 in /opt/miniconda3/lib/python3.8/site-packages (from ipykernel->jupyter-dash) (5.1.1)\n",
      "Requirement already satisfied: tornado>=6.1 in /opt/miniconda3/lib/python3.8/site-packages (from ipykernel->jupyter-dash) (6.1)\n",
      "Requirement already satisfied: pexpect>4.3 in /opt/miniconda3/lib/python3.8/site-packages (from ipython->jupyter-dash) (4.8.0)\n",
      "Requirement already satisfied: pygments>=2.4.0 in /opt/miniconda3/lib/python3.8/site-packages (from ipython->jupyter-dash) (2.11.2)\n",
      "Requirement already satisfied: setuptools>=18.5 in /opt/miniconda3/lib/python3.8/site-packages (from ipython->jupyter-dash) (52.0.0.post20210125)\n",
      "Requirement already satisfied: pickleshare in /opt/miniconda3/lib/python3.8/site-packages (from ipython->jupyter-dash) (0.7.5)\n",
      "Requirement already satisfied: backcall in /opt/miniconda3/lib/python3.8/site-packages (from ipython->jupyter-dash) (0.2.0)\n",
      "Requirement already satisfied: stack-data in /opt/miniconda3/lib/python3.8/site-packages (from ipython->jupyter-dash) (0.2.0)\n",
      "Requirement already satisfied: decorator in /opt/miniconda3/lib/python3.8/site-packages (from ipython->jupyter-dash) (5.1.1)\n",
      "Requirement already satisfied: jedi>=0.16 in /opt/miniconda3/lib/python3.8/site-packages (from ipython->jupyter-dash) (0.18.1)\n",
      "Requirement already satisfied: prompt-toolkit!=3.0.0,!=3.0.1,<3.1.0,>=2.0.0 in /opt/miniconda3/lib/python3.8/site-packages (from ipython->jupyter-dash) (3.0.29)\n",
      "Requirement already satisfied: parso<0.9.0,>=0.8.0 in /opt/miniconda3/lib/python3.8/site-packages (from jedi>=0.16->ipython->jupyter-dash) (0.8.3)\n",
      "Requirement already satisfied: pyzmq>=22.3 in /opt/miniconda3/lib/python3.8/site-packages (from jupyter-client>=6.1.12->ipykernel->jupyter-dash) (22.3.0)\n",
      "Requirement already satisfied: jupyter-core>=4.9.2 in /opt/miniconda3/lib/python3.8/site-packages (from jupyter-client>=6.1.12->ipykernel->jupyter-dash) (4.9.2)\n",
      "Requirement already satisfied: python-dateutil>=2.8.2 in /opt/miniconda3/lib/python3.8/site-packages (from jupyter-client>=6.1.12->ipykernel->jupyter-dash) (2.8.2)\n",
      "Requirement already satisfied: entrypoints in /opt/miniconda3/lib/python3.8/site-packages (from jupyter-client>=6.1.12->ipykernel->jupyter-dash) (0.4)\n",
      "Requirement already satisfied: ptyprocess>=0.5 in /opt/miniconda3/lib/python3.8/site-packages (from pexpect>4.3->ipython->jupyter-dash) (0.7.0)\n",
      "Requirement already satisfied: wcwidth in /opt/miniconda3/lib/python3.8/site-packages (from prompt-toolkit!=3.0.0,!=3.0.1,<3.1.0,>=2.0.0->ipython->jupyter-dash) (0.2.5)\n",
      "Requirement already satisfied: six>=1.5 in /opt/miniconda3/lib/python3.8/site-packages (from python-dateutil>=2.8.2->jupyter-client>=6.1.12->ipykernel->jupyter-dash) (1.16.0)\n",
      "Requirement already satisfied: pyparsing!=3.0.5,>=2.0.2 in /opt/miniconda3/lib/python3.8/site-packages (from packaging->ipykernel->jupyter-dash) (3.0.8)\n",
      "Requirement already satisfied: idna<3,>=2.5 in /opt/miniconda3/lib/python3.8/site-packages (from requests->jupyter-dash) (2.10)\n",
      "Requirement already satisfied: chardet<5,>=3.0.2 in /opt/miniconda3/lib/python3.8/site-packages (from requests->jupyter-dash) (4.0.0)\n",
      "Requirement already satisfied: certifi>=2017.4.17 in /opt/miniconda3/lib/python3.8/site-packages (from requests->jupyter-dash) (2021.5.30)\n",
      "Requirement already satisfied: urllib3<1.27,>=1.21.1 in /opt/miniconda3/lib/python3.8/site-packages (from requests->jupyter-dash) (1.26.6)\n",
      "Requirement already satisfied: asttokens in /opt/miniconda3/lib/python3.8/site-packages (from stack-data->ipython->jupyter-dash) (2.0.5)\n",
      "Requirement already satisfied: pure-eval in /opt/miniconda3/lib/python3.8/site-packages (from stack-data->ipython->jupyter-dash) (0.2.2)\n",
      "Requirement already satisfied: executing in /opt/miniconda3/lib/python3.8/site-packages (from stack-data->ipython->jupyter-dash) (0.8.3)\n",
      "Installing collected packages: ansi2html, jupyter-dash\n",
      "Successfully installed ansi2html-1.8.0 jupyter-dash-0.4.2\n",
      "Note: you may need to restart the kernel to use updated packages.\n"
     ]
    }
   ],
   "source": [
    "pip install jupyter-dash"
   ]
  },
  {
   "cell_type": "code",
   "execution_count": 185,
   "id": "b204671a",
   "metadata": {},
   "outputs": [
    {
     "name": "stdout",
     "output_type": "stream",
     "text": [
      "Requirement already satisfied: chart-studio in /opt/miniconda3/lib/python3.8/site-packages (1.1.0)\n",
      "Requirement already satisfied: plotly in /opt/miniconda3/lib/python3.8/site-packages (from chart-studio) (5.10.0)\n",
      "Requirement already satisfied: six in /opt/miniconda3/lib/python3.8/site-packages (from chart-studio) (1.16.0)\n",
      "Requirement already satisfied: requests in /opt/miniconda3/lib/python3.8/site-packages (from chart-studio) (2.25.1)\n",
      "Requirement already satisfied: retrying>=1.3.3 in /opt/miniconda3/lib/python3.8/site-packages (from chart-studio) (1.3.3)\n",
      "Requirement already satisfied: tenacity>=6.2.0 in /opt/miniconda3/lib/python3.8/site-packages (from plotly->chart-studio) (8.1.0)\n",
      "Requirement already satisfied: certifi>=2017.4.17 in /opt/miniconda3/lib/python3.8/site-packages (from requests->chart-studio) (2021.5.30)\n",
      "Requirement already satisfied: chardet<5,>=3.0.2 in /opt/miniconda3/lib/python3.8/site-packages (from requests->chart-studio) (4.0.0)\n",
      "Requirement already satisfied: urllib3<1.27,>=1.21.1 in /opt/miniconda3/lib/python3.8/site-packages (from requests->chart-studio) (1.26.6)\n",
      "Requirement already satisfied: idna<3,>=2.5 in /opt/miniconda3/lib/python3.8/site-packages (from requests->chart-studio) (2.10)\n",
      "Note: you may need to restart the kernel to use updated packages.\n"
     ]
    }
   ],
   "source": [
    "pip install chart-studio"
   ]
  },
  {
   "cell_type": "code",
   "execution_count": 164,
   "id": "9da0c788",
   "metadata": {},
   "outputs": [
    {
     "data": {
      "text/plain": [
       "'5.10.0'"
      ]
     },
     "execution_count": 164,
     "metadata": {},
     "output_type": "execute_result"
    }
   ],
   "source": [
    "import plotly\n",
    "plotly.__version__"
   ]
  },
  {
   "cell_type": "code",
   "execution_count": 165,
   "id": "82710358",
   "metadata": {},
   "outputs": [],
   "source": [
    "import chart_studio\n",
    "import chart_studio.dashboard_objs as dashboard\n",
    "import chart_studio.plotly as py\n",
    "import plotly.graph_objs as go\n",
    "\n",
    "from chart_studio.plotly import plot, iplot\n",
    "\n",
    "from datetime import datetime\n",
    "import IPython.display\n",
    "from IPython.display import Image\n",
    "import numpy as np\n",
    "import pandas as pd\n",
    "import pandas_datareader.data as web\n",
    "\n",
    "import urllib3\n",
    "urllib3.disable_warnings()\n",
    "\n",
    "from plotly_calplot import calplot\n",
    "import re\n"
   ]
  },
  {
   "cell_type": "code",
   "execution_count": 166,
   "id": "5fa5d43e",
   "metadata": {},
   "outputs": [],
   "source": [
    "# connect this notebook to plotly aacount\n",
    "\n",
    "username = 'zhongming.shi' \n",
    "api_key = 'jRq7UaGcQa50yr2R8PvO'\n",
    "\n",
    "chart_studio.tools.set_credentials_file(username=username, api_key=api_key)"
   ]
  },
  {
   "cell_type": "code",
   "execution_count": 167,
   "id": "6b010ec2",
   "metadata": {},
   "outputs": [],
   "source": [
    "colors = ['#3f545b', '#cd6116', '#f1bc1a', '#f6ebb6', '#a3d6ca', '#3290b5', '#03608c'],  #BIA colors\n",
    "colorscale = 'Reds'"
   ]
  },
  {
   "cell_type": "code",
   "execution_count": 188,
   "id": "045fcb19",
   "metadata": {},
   "outputs": [
    {
     "data": {
      "text/html": [
       "\n",
       "        <iframe\n",
       "            width=\"100%\"\n",
       "            height=\"150px\"\n",
       "            src=\"https://plotly.com/~zhongming.shi/1.embed\"\n",
       "            frameborder=\"0\"\n",
       "            allowfullscreen\n",
       "            \n",
       "        ></iframe>\n",
       "        "
      ],
      "text/plain": [
       "<IPython.lib.display.IFrame at 0x7f9380f6ccd0>"
      ]
     },
     "execution_count": 188,
     "metadata": {},
     "output_type": "execute_result"
    }
   ],
   "source": [
    "# create the plots\n",
    "\n",
    "cal_start_date = \"2022-01-01\"\n",
    "cal_end_date = \"2022-12-31\"\n",
    "\n",
    "path = r'/Users/shi_zhongming/Dropbox/SG data/data_gov/place/sorted/usecase/cea/simulations/BIA_clementi/outputs/data/potentials/agriculture/plot/B1000_BIA_visual_AmaranthRed.csv'\n",
    "df = pd.read_csv(path).iloc[3:,[38]]\n",
    "\n",
    "df_to_visual = pd.DataFrame({\n",
    "    \"ds\": pd.date_range(cal_start_date, cal_end_date),\n",
    "    \"value\": df['37'].values.astype(float)\n",
    "})\n",
    "\n",
    "\n",
    "# plot the calendar\n",
    "fig_calendar = calplot(\n",
    "    df_to_visual,\n",
    "    x=\"ds\",\n",
    "    y=\"value\",\n",
    "    years_title=True,\n",
    "    colorscale=colorscale,\n",
    "    dark_theme=False,\n",
    "    gap=1,\n",
    "    name=\"Data\",\n",
    "    month_lines_width=2, \n",
    "    month_lines_color=\"#fff\",\n",
    ")\n",
    "\n",
    "# Hide legend\n",
    "fig.update_layout(\n",
    "    showlegend=False,\n",
    "    title_text=\"Default Theme\",\n",
    "    height=500,\n",
    "    width=200,\n",
    ")\n",
    "\n",
    "py.iplot(fig_calendar, filename = 'calendar', auto_open=False)"
   ]
  },
  {
   "cell_type": "code",
   "execution_count": 169,
   "id": "f2869735",
   "metadata": {},
   "outputs": [],
   "source": [
    "# get the url for the plots\n",
    "url_1 = py.plot(fig_calendar,filename = 'calendar', auto_open=False)\n"
   ]
  },
  {
   "cell_type": "code",
   "execution_count": 170,
   "id": "168cab61",
   "metadata": {},
   "outputs": [],
   "source": [
    "# create the texts\n",
    "text_for_box = \"\"\n"
   ]
  },
  {
   "cell_type": "code",
   "execution_count": 171,
   "id": "20b6edbe",
   "metadata": {},
   "outputs": [],
   "source": [
    "# initialize dashboard\n",
    "bia_board_profiler = dashboard.Dashboard()"
   ]
  },
  {
   "cell_type": "code",
   "execution_count": 172,
   "id": "fac845f2",
   "metadata": {},
   "outputs": [],
   "source": [
    "# a helper function: to exract fileID from url\n",
    "def fileId_from_url(url):\n",
    "    \"\"\"Return fileId from a url.\"\"\"\n",
    "    raw_fileId = re.findall(\"~[\\w\\.-]+/[\\w\\.-]\", url)[0][1: ]    \n",
    "    return raw_fileId.replace('/', ':')\n",
    "\n",
    "# a helper function: to exract sharekey from url\n",
    "def sharekey_from_url(url):\n",
    "    \"\"\"Return the sharekey from a url.\"\"\"\n",
    "    if 'share_key=' not in url:\n",
    "        return \"This url is not 'sercret'. It does not have a secret key.\"\n",
    "    return url[url.find('share_key=') + len('share_key='):]\n"
   ]
  },
  {
   "cell_type": "code",
   "execution_count": 173,
   "id": "9f625c26",
   "metadata": {},
   "outputs": [
    {
     "name": "stdout",
     "output_type": "stream",
     "text": [
      "zhongming.shi:1\n"
     ]
    }
   ],
   "source": [
    "# extract fileIDs\n",
    "fileId_1 = fileId_from_url(url_1)\n",
    "print(fileId_1)"
   ]
  },
  {
   "cell_type": "code",
   "execution_count": 174,
   "id": "acbbac85",
   "metadata": {},
   "outputs": [],
   "source": [
    "# Set up box(es) for plots\n",
    "box_plot_a = {\n",
    "    'type': 'box',\n",
    "    'boxType': 'plot',\n",
    "    'fileId': fileId_1,\n",
    "#     'maxWidth':'100%',\n",
    "#     'height':'150',\n",
    "    'title': 'Cal-eatmap: planting calendar'\n",
    "}"
   ]
  },
  {
   "cell_type": "code",
   "execution_count": 175,
   "id": "a7ee7f19",
   "metadata": {},
   "outputs": [],
   "source": [
    "# Set up box(es) for texts\n",
    "\n",
    "box_text_a = {\n",
    "    'type': 'box',\n",
    "    'boxType': 'text',\n",
    "    'text': text_for_box,\n",
    "    'title': 'Markdown Options for Text Box'\n",
    "}"
   ]
  },
  {
   "cell_type": "code",
   "execution_count": 176,
   "id": "a40b76c7",
   "metadata": {},
   "outputs": [],
   "source": [
    "# # Set up box(es) for webpages\n",
    "\n",
    "# box_webpage_a = {\n",
    "#     'type': 'box',\n",
    "#     'boxType': 'webpage',\n",
    "#     'url': 'https://www.cityenergyanalyst.com/',\n",
    "#     'title': 'webpage:city energy analyst'\n",
    "# }\n"
   ]
  },
  {
   "cell_type": "code",
   "execution_count": 177,
   "id": "8118ea11",
   "metadata": {},
   "outputs": [],
   "source": [
    "# fill the dashboard with boxes\n",
    "\n",
    "bia_board_profiler.insert(box_plot_a)\n",
    "bia_board_profiler.insert(box_text_a, 'left', 1)\n",
    "# bia_board_profiler.insert(box_webpage_a, 'left', 1, fill_percent=30)\n",
    "\n",
    "# bia_board_profiler.get_preview()"
   ]
  },
  {
   "cell_type": "code",
   "execution_count": 178,
   "id": "a3b42fb1",
   "metadata": {},
   "outputs": [],
   "source": [
    "# add title to the dashboard\n",
    "\n",
    "bia_board_profiler['settings']['title'] = 'My First Dashboard with Python'\n"
   ]
  },
  {
   "cell_type": "code",
   "execution_count": 179,
   "id": "fed58df5",
   "metadata": {},
   "outputs": [],
   "source": [
    "# add a logo to the dashboard\n",
    "bia_board_profiler['settings']['logoUrl'] = 'https://images.plot.ly/language-icons/api-home/python-logo.png'"
   ]
  },
  {
   "cell_type": "code",
   "execution_count": 180,
   "id": "39c49084",
   "metadata": {},
   "outputs": [],
   "source": [
    "# add links to the dashboard\n",
    "bia_board_profiler['settings']['links'] = []\n",
    "bia_board_profiler['settings']['links'].append({'title': 'Link to Plotly', 'url': 'https://plotly.com/'})\n",
    "bia_board_profiler['settings']['links'].append({'title': 'Link to Python Website', 'url': 'https://www.python.org/'})"
   ]
  },
  {
   "cell_type": "code",
   "execution_count": 181,
   "id": "b2019016",
   "metadata": {},
   "outputs": [],
   "source": [
    "# change color setting to the dashboard\n",
    "bia_board_profiler['settings']['foregroundColor'] = '#000000'\n",
    "bia_board_profiler['settings']['backgroundColor'] = '#adcaea'\n",
    "bia_board_profiler['settings']['headerForegroundColor'] = '#ffffff'\n",
    "bia_board_profiler['settings']['headerBackgroundColor'] = '#D232C8'\n",
    "bia_board_profiler['settings']['boxBackgroundColor'] = '#ffffff'\n",
    "bia_board_profiler['settings']['boxBorderColor'] = '#000000'\n",
    "bia_board_profiler['settings']['boxHeaderBackgroundColor'] = '#ffffff'\n"
   ]
  },
  {
   "cell_type": "code",
   "execution_count": 182,
   "id": "1b7b2085",
   "metadata": {},
   "outputs": [],
   "source": [
    "# change font settings to the dashboard\n",
    "bia_board_profiler['settings']['fontFamily'] = 'Arial'\n",
    "bia_board_profiler['settings']['headerFontSize'] = '1.6em'\n",
    "bia_board_profiler['settings']['headerFontWeight'] = '200'"
   ]
  },
  {
   "cell_type": "code",
   "execution_count": 183,
   "id": "7450b523",
   "metadata": {
    "scrolled": true
   },
   "outputs": [],
   "source": [
    "# update dashboard size\n",
    "stacked_dboard = dashboard.Dashboard()\n",
    "text_box = {\n",
    "    'type': 'box',\n",
    "    'boxType': 'text',\n",
    "    'text': 'empty space'\n",
    "}\n",
    "for _ in range(5):\n",
    "    stacked_dboard.insert(text_box, 'below', 1)\n",
    "\n",
    "#stacked_dboard.get_preview()\n",
    "\n",
    "# stacked_dboard['layout']['size'] = 3000\n"
   ]
  },
  {
   "cell_type": "code",
   "execution_count": 184,
   "id": "f08543b9",
   "metadata": {},
   "outputs": [
    {
     "data": {
      "text/plain": [
       "'https://plotly.com/~zhongming.shi/6/my-first-dashboard-with-python/'"
      ]
     },
     "execution_count": 184,
     "metadata": {},
     "output_type": "execute_result"
    }
   ],
   "source": [
    "# upload the dashboard\n",
    "py.dashboard_ops.upload(bia_board_profiler, 'My First Dashboard with Python')"
   ]
  }
 ],
 "metadata": {
  "kernelspec": {
   "display_name": "Python 3 (ipykernel)",
   "language": "python",
   "name": "python3"
  },
  "language_info": {
   "codemirror_mode": {
    "name": "ipython",
    "version": 3
   },
   "file_extension": ".py",
   "mimetype": "text/x-python",
   "name": "python",
   "nbconvert_exporter": "python",
   "pygments_lexer": "ipython3",
   "version": "3.8.10"
  }
 },
 "nbformat": 4,
 "nbformat_minor": 5
}
